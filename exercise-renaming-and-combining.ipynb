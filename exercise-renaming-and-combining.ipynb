{
 "cells": [
  {
   "cell_type": "markdown",
   "id": "dd3adcea",
   "metadata": {
    "papermill": {
     "duration": 0.015567,
     "end_time": "2022-04-15T19:28:39.211200",
     "exception": false,
     "start_time": "2022-04-15T19:28:39.195633",
     "status": "completed"
    },
    "tags": []
   },
   "source": [
    "**This notebook is an exercise in the [Pandas](https://www.kaggle.com/learn/pandas) course.  You can reference the tutorial at [this link](https://www.kaggle.com/residentmario/renaming-and-combining).**\n",
    "\n",
    "---\n"
   ]
  },
  {
   "cell_type": "markdown",
   "id": "26c1cb21",
   "metadata": {
    "papermill": {
     "duration": 0.014542,
     "end_time": "2022-04-15T19:28:39.240347",
     "exception": false,
     "start_time": "2022-04-15T19:28:39.225805",
     "status": "completed"
    },
    "tags": []
   },
   "source": [
    "# Introduction\n",
    "\n",
    "Run the following cell to load your data and some utility functions."
   ]
  },
  {
   "cell_type": "code",
   "execution_count": 1,
   "id": "5e43fb09",
   "metadata": {
    "execution": {
     "iopub.execute_input": "2022-04-15T19:28:39.271892Z",
     "iopub.status.busy": "2022-04-15T19:28:39.271228Z",
     "iopub.status.idle": "2022-04-15T19:28:43.105181Z",
     "shell.execute_reply": "2022-04-15T19:28:43.104113Z"
    },
    "papermill": {
     "duration": 3.853266,
     "end_time": "2022-04-15T19:28:43.108407",
     "exception": false,
     "start_time": "2022-04-15T19:28:39.255141",
     "status": "completed"
    },
    "tags": []
   },
   "outputs": [
    {
     "name": "stdout",
     "output_type": "stream",
     "text": [
      "Setup complete.\n"
     ]
    }
   ],
   "source": [
    "import pandas as pd\n",
    "\n",
    "reviews = pd.read_csv(\"../input/wine-reviews/winemag-data-130k-v2.csv\", index_col=0)\n",
    "\n",
    "from learntools.core import binder; binder.bind(globals())\n",
    "from learntools.pandas.renaming_and_combining import *\n",
    "print(\"Setup complete.\")"
   ]
  },
  {
   "cell_type": "markdown",
   "id": "ff969380",
   "metadata": {
    "papermill": {
     "duration": 0.014553,
     "end_time": "2022-04-15T19:28:43.139411",
     "exception": false,
     "start_time": "2022-04-15T19:28:43.124858",
     "status": "completed"
    },
    "tags": []
   },
   "source": [
    "# Exercises\n",
    "\n",
    "View the first several lines of your data by running the cell below:"
   ]
  },
  {
   "cell_type": "code",
   "execution_count": 2,
   "id": "c8262012",
   "metadata": {
    "execution": {
     "iopub.execute_input": "2022-04-15T19:28:43.170290Z",
     "iopub.status.busy": "2022-04-15T19:28:43.169949Z",
     "iopub.status.idle": "2022-04-15T19:28:43.193512Z",
     "shell.execute_reply": "2022-04-15T19:28:43.192603Z"
    },
    "papermill": {
     "duration": 0.041609,
     "end_time": "2022-04-15T19:28:43.195805",
     "exception": false,
     "start_time": "2022-04-15T19:28:43.154196",
     "status": "completed"
    },
    "tags": []
   },
   "outputs": [
    {
     "data": {
      "text/html": [
       "<div>\n",
       "<style scoped>\n",
       "    .dataframe tbody tr th:only-of-type {\n",
       "        vertical-align: middle;\n",
       "    }\n",
       "\n",
       "    .dataframe tbody tr th {\n",
       "        vertical-align: top;\n",
       "    }\n",
       "\n",
       "    .dataframe thead th {\n",
       "        text-align: right;\n",
       "    }\n",
       "</style>\n",
       "<table border=\"1\" class=\"dataframe\">\n",
       "  <thead>\n",
       "    <tr style=\"text-align: right;\">\n",
       "      <th></th>\n",
       "      <th>country</th>\n",
       "      <th>description</th>\n",
       "      <th>designation</th>\n",
       "      <th>points</th>\n",
       "      <th>price</th>\n",
       "      <th>province</th>\n",
       "      <th>region_1</th>\n",
       "      <th>region_2</th>\n",
       "      <th>taster_name</th>\n",
       "      <th>taster_twitter_handle</th>\n",
       "      <th>title</th>\n",
       "      <th>variety</th>\n",
       "      <th>winery</th>\n",
       "    </tr>\n",
       "  </thead>\n",
       "  <tbody>\n",
       "    <tr>\n",
       "      <th>0</th>\n",
       "      <td>Italy</td>\n",
       "      <td>Aromas include tropical fruit, broom, brimston...</td>\n",
       "      <td>Vulkà Bianco</td>\n",
       "      <td>87</td>\n",
       "      <td>NaN</td>\n",
       "      <td>Sicily &amp; Sardinia</td>\n",
       "      <td>Etna</td>\n",
       "      <td>NaN</td>\n",
       "      <td>Kerin O’Keefe</td>\n",
       "      <td>@kerinokeefe</td>\n",
       "      <td>Nicosia 2013 Vulkà Bianco  (Etna)</td>\n",
       "      <td>White Blend</td>\n",
       "      <td>Nicosia</td>\n",
       "    </tr>\n",
       "    <tr>\n",
       "      <th>1</th>\n",
       "      <td>Portugal</td>\n",
       "      <td>This is ripe and fruity, a wine that is smooth...</td>\n",
       "      <td>Avidagos</td>\n",
       "      <td>87</td>\n",
       "      <td>15.0</td>\n",
       "      <td>Douro</td>\n",
       "      <td>NaN</td>\n",
       "      <td>NaN</td>\n",
       "      <td>Roger Voss</td>\n",
       "      <td>@vossroger</td>\n",
       "      <td>Quinta dos Avidagos 2011 Avidagos Red (Douro)</td>\n",
       "      <td>Portuguese Red</td>\n",
       "      <td>Quinta dos Avidagos</td>\n",
       "    </tr>\n",
       "    <tr>\n",
       "      <th>2</th>\n",
       "      <td>US</td>\n",
       "      <td>Tart and snappy, the flavors of lime flesh and...</td>\n",
       "      <td>NaN</td>\n",
       "      <td>87</td>\n",
       "      <td>14.0</td>\n",
       "      <td>Oregon</td>\n",
       "      <td>Willamette Valley</td>\n",
       "      <td>Willamette Valley</td>\n",
       "      <td>Paul Gregutt</td>\n",
       "      <td>@paulgwine</td>\n",
       "      <td>Rainstorm 2013 Pinot Gris (Willamette Valley)</td>\n",
       "      <td>Pinot Gris</td>\n",
       "      <td>Rainstorm</td>\n",
       "    </tr>\n",
       "    <tr>\n",
       "      <th>3</th>\n",
       "      <td>US</td>\n",
       "      <td>Pineapple rind, lemon pith and orange blossom ...</td>\n",
       "      <td>Reserve Late Harvest</td>\n",
       "      <td>87</td>\n",
       "      <td>13.0</td>\n",
       "      <td>Michigan</td>\n",
       "      <td>Lake Michigan Shore</td>\n",
       "      <td>NaN</td>\n",
       "      <td>Alexander Peartree</td>\n",
       "      <td>NaN</td>\n",
       "      <td>St. Julian 2013 Reserve Late Harvest Riesling ...</td>\n",
       "      <td>Riesling</td>\n",
       "      <td>St. Julian</td>\n",
       "    </tr>\n",
       "    <tr>\n",
       "      <th>4</th>\n",
       "      <td>US</td>\n",
       "      <td>Much like the regular bottling from 2012, this...</td>\n",
       "      <td>Vintner's Reserve Wild Child Block</td>\n",
       "      <td>87</td>\n",
       "      <td>65.0</td>\n",
       "      <td>Oregon</td>\n",
       "      <td>Willamette Valley</td>\n",
       "      <td>Willamette Valley</td>\n",
       "      <td>Paul Gregutt</td>\n",
       "      <td>@paulgwine</td>\n",
       "      <td>Sweet Cheeks 2012 Vintner's Reserve Wild Child...</td>\n",
       "      <td>Pinot Noir</td>\n",
       "      <td>Sweet Cheeks</td>\n",
       "    </tr>\n",
       "  </tbody>\n",
       "</table>\n",
       "</div>"
      ],
      "text/plain": [
       "    country                                        description  \\\n",
       "0     Italy  Aromas include tropical fruit, broom, brimston...   \n",
       "1  Portugal  This is ripe and fruity, a wine that is smooth...   \n",
       "2        US  Tart and snappy, the flavors of lime flesh and...   \n",
       "3        US  Pineapple rind, lemon pith and orange blossom ...   \n",
       "4        US  Much like the regular bottling from 2012, this...   \n",
       "\n",
       "                          designation  points  price           province  \\\n",
       "0                        Vulkà Bianco      87    NaN  Sicily & Sardinia   \n",
       "1                            Avidagos      87   15.0              Douro   \n",
       "2                                 NaN      87   14.0             Oregon   \n",
       "3                Reserve Late Harvest      87   13.0           Michigan   \n",
       "4  Vintner's Reserve Wild Child Block      87   65.0             Oregon   \n",
       "\n",
       "              region_1           region_2         taster_name  \\\n",
       "0                 Etna                NaN       Kerin O’Keefe   \n",
       "1                  NaN                NaN          Roger Voss   \n",
       "2    Willamette Valley  Willamette Valley        Paul Gregutt   \n",
       "3  Lake Michigan Shore                NaN  Alexander Peartree   \n",
       "4    Willamette Valley  Willamette Valley        Paul Gregutt   \n",
       "\n",
       "  taster_twitter_handle                                              title  \\\n",
       "0          @kerinokeefe                  Nicosia 2013 Vulkà Bianco  (Etna)   \n",
       "1            @vossroger      Quinta dos Avidagos 2011 Avidagos Red (Douro)   \n",
       "2           @paulgwine       Rainstorm 2013 Pinot Gris (Willamette Valley)   \n",
       "3                   NaN  St. Julian 2013 Reserve Late Harvest Riesling ...   \n",
       "4           @paulgwine   Sweet Cheeks 2012 Vintner's Reserve Wild Child...   \n",
       "\n",
       "          variety               winery  \n",
       "0     White Blend              Nicosia  \n",
       "1  Portuguese Red  Quinta dos Avidagos  \n",
       "2      Pinot Gris            Rainstorm  \n",
       "3        Riesling           St. Julian  \n",
       "4      Pinot Noir         Sweet Cheeks  "
      ]
     },
     "execution_count": 2,
     "metadata": {},
     "output_type": "execute_result"
    }
   ],
   "source": [
    "reviews.head()"
   ]
  },
  {
   "cell_type": "markdown",
   "id": "51aae86c",
   "metadata": {
    "papermill": {
     "duration": 0.01505,
     "end_time": "2022-04-15T19:28:43.226410",
     "exception": false,
     "start_time": "2022-04-15T19:28:43.211360",
     "status": "completed"
    },
    "tags": []
   },
   "source": [
    "## 1.\n",
    "`region_1` and `region_2` are pretty uninformative names for locale columns in the dataset. Create a copy of `reviews` with these columns renamed to `region` and `locale`, respectively."
   ]
  },
  {
   "cell_type": "code",
   "execution_count": 3,
   "id": "18533b86",
   "metadata": {
    "execution": {
     "iopub.execute_input": "2022-04-15T19:28:43.258765Z",
     "iopub.status.busy": "2022-04-15T19:28:43.257822Z",
     "iopub.status.idle": "2022-04-15T19:28:43.289559Z",
     "shell.execute_reply": "2022-04-15T19:28:43.288944Z"
    },
    "papermill": {
     "duration": 0.04985,
     "end_time": "2022-04-15T19:28:43.291494",
     "exception": false,
     "start_time": "2022-04-15T19:28:43.241644",
     "status": "completed"
    },
    "tags": []
   },
   "outputs": [
    {
     "data": {
      "application/javascript": [
       "parent.postMessage({\"jupyterEvent\": \"custom.exercise_interaction\", \"data\": {\"outcomeType\": 1, \"valueTowardsCompletion\": 0.25, \"interactionType\": 1, \"questionType\": 1, \"questionId\": \"1_RenameCols\", \"learnToolsVersion\": \"0.3.4\", \"failureMessage\": \"\", \"exceptionClass\": \"\", \"trace\": \"\"}}, \"*\")"
      ],
      "text/plain": [
       "<IPython.core.display.Javascript object>"
      ]
     },
     "metadata": {},
     "output_type": "display_data"
    },
    {
     "data": {
      "text/markdown": [
       "<span style=\"color:#33cc33\">Correct</span>"
      ],
      "text/plain": [
       "Correct"
      ]
     },
     "metadata": {},
     "output_type": "display_data"
    }
   ],
   "source": [
    "# Your code here\n",
    "renamed = reviews.rename(columns=dict(region_1='region', region_2='locale'))\n",
    "\n",
    "# Check your answer\n",
    "q1.check()"
   ]
  },
  {
   "cell_type": "code",
   "execution_count": 4,
   "id": "168bf5de",
   "metadata": {
    "execution": {
     "iopub.execute_input": "2022-04-15T19:28:43.327052Z",
     "iopub.status.busy": "2022-04-15T19:28:43.326067Z",
     "iopub.status.idle": "2022-04-15T19:28:43.329452Z",
     "shell.execute_reply": "2022-04-15T19:28:43.328893Z"
    },
    "papermill": {
     "duration": 0.02281,
     "end_time": "2022-04-15T19:28:43.331366",
     "exception": false,
     "start_time": "2022-04-15T19:28:43.308556",
     "status": "completed"
    },
    "tags": []
   },
   "outputs": [],
   "source": [
    "#q1.hint()\n",
    "#q1.solution()"
   ]
  },
  {
   "cell_type": "markdown",
   "id": "71ffed60",
   "metadata": {
    "papermill": {
     "duration": 0.017639,
     "end_time": "2022-04-15T19:28:43.365313",
     "exception": false,
     "start_time": "2022-04-15T19:28:43.347674",
     "status": "completed"
    },
    "tags": []
   },
   "source": [
    "## 2.\n",
    "Set the index name in the dataset to `wines`."
   ]
  },
  {
   "cell_type": "code",
   "execution_count": 5,
   "id": "a96f3d25",
   "metadata": {
    "execution": {
     "iopub.execute_input": "2022-04-15T19:28:43.399747Z",
     "iopub.status.busy": "2022-04-15T19:28:43.398617Z",
     "iopub.status.idle": "2022-04-15T19:28:43.430506Z",
     "shell.execute_reply": "2022-04-15T19:28:43.429840Z"
    },
    "papermill": {
     "duration": 0.050915,
     "end_time": "2022-04-15T19:28:43.432334",
     "exception": false,
     "start_time": "2022-04-15T19:28:43.381419",
     "status": "completed"
    },
    "tags": []
   },
   "outputs": [
    {
     "data": {
      "application/javascript": [
       "parent.postMessage({\"jupyterEvent\": \"custom.exercise_interaction\", \"data\": {\"outcomeType\": 1, \"valueTowardsCompletion\": 0.25, \"interactionType\": 1, \"questionType\": 1, \"questionId\": \"2_RenameIndex\", \"learnToolsVersion\": \"0.3.4\", \"failureMessage\": \"\", \"exceptionClass\": \"\", \"trace\": \"\"}}, \"*\")"
      ],
      "text/plain": [
       "<IPython.core.display.Javascript object>"
      ]
     },
     "metadata": {},
     "output_type": "display_data"
    },
    {
     "data": {
      "text/markdown": [
       "<span style=\"color:#33cc33\">Correct</span>"
      ],
      "text/plain": [
       "Correct"
      ]
     },
     "metadata": {},
     "output_type": "display_data"
    }
   ],
   "source": [
    "reindexed = reviews.rename_axis('wines', axis='rows')\n",
    "\n",
    "# Check your answer\n",
    "q2.check()"
   ]
  },
  {
   "cell_type": "code",
   "execution_count": 6,
   "id": "6f0907c1",
   "metadata": {
    "execution": {
     "iopub.execute_input": "2022-04-15T19:28:43.469276Z",
     "iopub.status.busy": "2022-04-15T19:28:43.468696Z",
     "iopub.status.idle": "2022-04-15T19:28:43.471746Z",
     "shell.execute_reply": "2022-04-15T19:28:43.471134Z"
    },
    "papermill": {
     "duration": 0.023203,
     "end_time": "2022-04-15T19:28:43.473518",
     "exception": false,
     "start_time": "2022-04-15T19:28:43.450315",
     "status": "completed"
    },
    "tags": []
   },
   "outputs": [],
   "source": [
    "#q2.hint()\n",
    "#q2.solution()"
   ]
  },
  {
   "cell_type": "markdown",
   "id": "3644f0a0",
   "metadata": {
    "papermill": {
     "duration": 0.016756,
     "end_time": "2022-04-15T19:28:43.507437",
     "exception": false,
     "start_time": "2022-04-15T19:28:43.490681",
     "status": "completed"
    },
    "tags": []
   },
   "source": [
    "## 3.\n",
    "The [Things on Reddit](https://www.kaggle.com/residentmario/things-on-reddit/data) dataset includes product links from a selection of top-ranked forums (\"subreddits\") on reddit.com. Run the cell below to load a dataframe of products mentioned on the */r/gaming* subreddit and another dataframe for products mentioned on the *r//movies* subreddit."
   ]
  },
  {
   "cell_type": "code",
   "execution_count": 7,
   "id": "7f95c15b",
   "metadata": {
    "execution": {
     "iopub.execute_input": "2022-04-15T19:28:43.543234Z",
     "iopub.status.busy": "2022-04-15T19:28:43.542918Z",
     "iopub.status.idle": "2022-04-15T19:28:43.556667Z",
     "shell.execute_reply": "2022-04-15T19:28:43.555992Z"
    },
    "papermill": {
     "duration": 0.034185,
     "end_time": "2022-04-15T19:28:43.558670",
     "exception": false,
     "start_time": "2022-04-15T19:28:43.524485",
     "status": "completed"
    },
    "tags": []
   },
   "outputs": [],
   "source": [
    "gaming_products = pd.read_csv(\"../input/things-on-reddit/top-things/top-things/reddits/g/gaming.csv\")\n",
    "gaming_products['subreddit'] = \"r/gaming\"\n",
    "movie_products = pd.read_csv(\"../input/things-on-reddit/top-things/top-things/reddits/m/movies.csv\")\n",
    "movie_products['subreddit'] = \"r/movies\""
   ]
  },
  {
   "cell_type": "markdown",
   "id": "20f850ac",
   "metadata": {
    "papermill": {
     "duration": 0.016904,
     "end_time": "2022-04-15T19:28:43.593092",
     "exception": false,
     "start_time": "2022-04-15T19:28:43.576188",
     "status": "completed"
    },
    "tags": []
   },
   "source": [
    "Create a `DataFrame` of products mentioned on *either* subreddit."
   ]
  },
  {
   "cell_type": "code",
   "execution_count": 8,
   "id": "9be7839c",
   "metadata": {
    "execution": {
     "iopub.execute_input": "2022-04-15T19:28:43.628904Z",
     "iopub.status.busy": "2022-04-15T19:28:43.628373Z",
     "iopub.status.idle": "2022-04-15T19:28:43.638987Z",
     "shell.execute_reply": "2022-04-15T19:28:43.638390Z"
    },
    "papermill": {
     "duration": 0.030652,
     "end_time": "2022-04-15T19:28:43.640704",
     "exception": false,
     "start_time": "2022-04-15T19:28:43.610052",
     "status": "completed"
    },
    "tags": []
   },
   "outputs": [
    {
     "data": {
      "application/javascript": [
       "parent.postMessage({\"jupyterEvent\": \"custom.exercise_interaction\", \"data\": {\"outcomeType\": 1, \"valueTowardsCompletion\": 0.25, \"interactionType\": 1, \"questionType\": 2, \"questionId\": \"3_ConcatReddit\", \"learnToolsVersion\": \"0.3.4\", \"failureMessage\": \"\", \"exceptionClass\": \"\", \"trace\": \"\"}}, \"*\")"
      ],
      "text/plain": [
       "<IPython.core.display.Javascript object>"
      ]
     },
     "metadata": {},
     "output_type": "display_data"
    },
    {
     "data": {
      "text/markdown": [
       "<span style=\"color:#33cc33\">Correct</span>"
      ],
      "text/plain": [
       "Correct"
      ]
     },
     "metadata": {},
     "output_type": "display_data"
    }
   ],
   "source": [
    "combined_products = pd.concat([gaming_products, movie_products])\n",
    "\n",
    "# Check your answer\n",
    "q3.check()"
   ]
  },
  {
   "cell_type": "code",
   "execution_count": 9,
   "id": "7b6c255f",
   "metadata": {
    "execution": {
     "iopub.execute_input": "2022-04-15T19:28:43.678983Z",
     "iopub.status.busy": "2022-04-15T19:28:43.678443Z",
     "iopub.status.idle": "2022-04-15T19:28:43.681565Z",
     "shell.execute_reply": "2022-04-15T19:28:43.680885Z"
    },
    "papermill": {
     "duration": 0.024656,
     "end_time": "2022-04-15T19:28:43.683536",
     "exception": false,
     "start_time": "2022-04-15T19:28:43.658880",
     "status": "completed"
    },
    "tags": []
   },
   "outputs": [],
   "source": [
    "#q3.hint()\n",
    "#q3.solution()"
   ]
  },
  {
   "cell_type": "markdown",
   "id": "6730b852",
   "metadata": {
    "papermill": {
     "duration": 0.017982,
     "end_time": "2022-04-15T19:28:43.719675",
     "exception": false,
     "start_time": "2022-04-15T19:28:43.701693",
     "status": "completed"
    },
    "tags": []
   },
   "source": [
    "## 4.\n",
    "The [Powerlifting Database](https://www.kaggle.com/open-powerlifting/powerlifting-database) dataset on Kaggle includes one CSV table for powerlifting meets and a separate one for powerlifting competitors. Run the cell below to load these datasets into dataframes:"
   ]
  },
  {
   "cell_type": "code",
   "execution_count": 10,
   "id": "53491c87",
   "metadata": {
    "execution": {
     "iopub.execute_input": "2022-04-15T19:28:43.758353Z",
     "iopub.status.busy": "2022-04-15T19:28:43.757781Z",
     "iopub.status.idle": "2022-04-15T19:28:44.523582Z",
     "shell.execute_reply": "2022-04-15T19:28:44.522689Z"
    },
    "papermill": {
     "duration": 0.787887,
     "end_time": "2022-04-15T19:28:44.525877",
     "exception": false,
     "start_time": "2022-04-15T19:28:43.737990",
     "status": "completed"
    },
    "tags": []
   },
   "outputs": [],
   "source": [
    "powerlifting_meets = pd.read_csv(\"../input/powerlifting-database/meets.csv\")\n",
    "powerlifting_competitors = pd.read_csv(\"../input/powerlifting-database/openpowerlifting.csv\")"
   ]
  },
  {
   "cell_type": "markdown",
   "id": "6c9fccfd",
   "metadata": {
    "papermill": {
     "duration": 0.018222,
     "end_time": "2022-04-15T19:28:44.562768",
     "exception": false,
     "start_time": "2022-04-15T19:28:44.544546",
     "status": "completed"
    },
    "tags": []
   },
   "source": [
    "Both tables include references to a `MeetID`, a unique key for each meet (competition) included in the database. Using this, generate a dataset combining the two tables into one."
   ]
  },
  {
   "cell_type": "code",
   "execution_count": 11,
   "id": "5edc684b",
   "metadata": {
    "execution": {
     "iopub.execute_input": "2022-04-15T19:28:44.600981Z",
     "iopub.status.busy": "2022-04-15T19:28:44.600434Z",
     "iopub.status.idle": "2022-04-15T19:28:45.386620Z",
     "shell.execute_reply": "2022-04-15T19:28:45.385730Z"
    },
    "papermill": {
     "duration": 0.8078,
     "end_time": "2022-04-15T19:28:45.388755",
     "exception": false,
     "start_time": "2022-04-15T19:28:44.580955",
     "status": "completed"
    },
    "tags": []
   },
   "outputs": [
    {
     "data": {
      "application/javascript": [
       "parent.postMessage({\"jupyterEvent\": \"custom.exercise_interaction\", \"data\": {\"outcomeType\": 1, \"valueTowardsCompletion\": 0.25, \"interactionType\": 1, \"questionType\": 2, \"questionId\": \"4_JoinLifting\", \"learnToolsVersion\": \"0.3.4\", \"failureMessage\": \"\", \"exceptionClass\": \"\", \"trace\": \"\"}}, \"*\")"
      ],
      "text/plain": [
       "<IPython.core.display.Javascript object>"
      ]
     },
     "metadata": {},
     "output_type": "display_data"
    },
    {
     "data": {
      "text/markdown": [
       "<span style=\"color:#33cc33\">Correct</span>"
      ],
      "text/plain": [
       "Correct"
      ]
     },
     "metadata": {},
     "output_type": "display_data"
    }
   ],
   "source": [
    "powerlifting_combined = powerlifting_meets.set_index(\"MeetID\").join(powerlifting_competitors.set_index(\"MeetID\"))\n",
    "\n",
    "# Check your answer\n",
    "q4.check()"
   ]
  },
  {
   "cell_type": "code",
   "execution_count": 12,
   "id": "99eaad31",
   "metadata": {
    "execution": {
     "iopub.execute_input": "2022-04-15T19:28:45.430499Z",
     "iopub.status.busy": "2022-04-15T19:28:45.430197Z",
     "iopub.status.idle": "2022-04-15T19:28:45.433841Z",
     "shell.execute_reply": "2022-04-15T19:28:45.432904Z"
    },
    "papermill": {
     "duration": 0.02618,
     "end_time": "2022-04-15T19:28:45.435876",
     "exception": false,
     "start_time": "2022-04-15T19:28:45.409696",
     "status": "completed"
    },
    "tags": []
   },
   "outputs": [],
   "source": [
    "#q4.hint()\n",
    "#q4.solution()"
   ]
  },
  {
   "cell_type": "markdown",
   "id": "4ab56846",
   "metadata": {
    "papermill": {
     "duration": 0.018699,
     "end_time": "2022-04-15T19:28:45.474644",
     "exception": false,
     "start_time": "2022-04-15T19:28:45.455945",
     "status": "completed"
    },
    "tags": []
   },
   "source": [
    "# Congratulations!\n",
    "\n",
    "You've finished the Pandas micro-course.  Many data scientists feel efficiency with Pandas is the most useful and practical skill they have, because it allows you to progress quickly in any project you have.\n",
    "\n",
    "If you'd like to apply your new skills to examining geospatial data, you're encouraged to check out our **[Geospatial Analysis](https://www.kaggle.com/learn/geospatial-analysis)** micro-course.\n",
    "\n",
    "You can also take advantage of your Pandas skills by entering a **[Kaggle Competition](https://www.kaggle.com/competitions)** or by answering a question you find interesting using **[Kaggle Datasets](https://www.kaggle.com/datasets)**."
   ]
  },
  {
   "cell_type": "markdown",
   "id": "ec133e3b",
   "metadata": {
    "papermill": {
     "duration": 0.019116,
     "end_time": "2022-04-15T19:28:45.512728",
     "exception": false,
     "start_time": "2022-04-15T19:28:45.493612",
     "status": "completed"
    },
    "tags": []
   },
   "source": [
    "---\n",
    "\n",
    "\n",
    "\n",
    "\n",
    "*Have questions or comments? Visit the [course discussion forum](https://www.kaggle.com/learn/pandas/discussion) to chat with other learners.*"
   ]
  }
 ],
 "metadata": {
  "kernelspec": {
   "display_name": "Python 3",
   "language": "python",
   "name": "python3"
  },
  "language_info": {
   "codemirror_mode": {
    "name": "ipython",
    "version": 3
   },
   "file_extension": ".py",
   "mimetype": "text/x-python",
   "name": "python",
   "nbconvert_exporter": "python",
   "pygments_lexer": "ipython3",
   "version": "3.7.12"
  },
  "papermill": {
   "default_parameters": {},
   "duration": 16.499982,
   "end_time": "2022-04-15T19:28:46.252984",
   "environment_variables": {},
   "exception": null,
   "input_path": "__notebook__.ipynb",
   "output_path": "__notebook__.ipynb",
   "parameters": {},
   "start_time": "2022-04-15T19:28:29.753002",
   "version": "2.3.4"
  }
 },
 "nbformat": 4,
 "nbformat_minor": 5
}
