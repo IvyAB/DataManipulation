{
 "cells": [
  {
   "cell_type": "markdown",
   "id": "354798ca",
   "metadata": {
    "papermill": {
     "duration": 0.017335,
     "end_time": "2022-04-15T19:26:30.486242",
     "exception": false,
     "start_time": "2022-04-15T19:26:30.468907",
     "status": "completed"
    },
    "tags": []
   },
   "source": [
    "**This notebook is an exercise in the [Pandas](https://www.kaggle.com/learn/pandas) course.  You can reference the tutorial at [this link](https://www.kaggle.com/residentmario/grouping-and-sorting).**\n",
    "\n",
    "---\n"
   ]
  },
  {
   "cell_type": "markdown",
   "id": "e5899dfb",
   "metadata": {
    "papermill": {
     "duration": 0.016554,
     "end_time": "2022-04-15T19:26:30.519380",
     "exception": false,
     "start_time": "2022-04-15T19:26:30.502826",
     "status": "completed"
    },
    "tags": []
   },
   "source": [
    "# Introduction\n",
    "\n",
    "In these exercises we'll apply groupwise analysis to our dataset.\n",
    "\n",
    "Run the code cell below to load the data before running the exercises."
   ]
  },
  {
   "cell_type": "code",
   "execution_count": 1,
   "id": "eb5d3bf3",
   "metadata": {
    "execution": {
     "iopub.execute_input": "2022-04-15T19:26:30.555223Z",
     "iopub.status.busy": "2022-04-15T19:26:30.554421Z",
     "iopub.status.idle": "2022-04-15T19:26:33.387798Z",
     "shell.execute_reply": "2022-04-15T19:26:33.386839Z"
    },
    "papermill": {
     "duration": 2.85401,
     "end_time": "2022-04-15T19:26:33.390251",
     "exception": false,
     "start_time": "2022-04-15T19:26:30.536241",
     "status": "completed"
    },
    "tags": []
   },
   "outputs": [
    {
     "name": "stdout",
     "output_type": "stream",
     "text": [
      "Setup complete.\n"
     ]
    }
   ],
   "source": [
    "import pandas as pd\n",
    "\n",
    "reviews = pd.read_csv(\"../input/wine-reviews/winemag-data-130k-v2.csv\", index_col=0)\n",
    "#pd.set_option(\"display.max_rows\", 5)\n",
    "\n",
    "from learntools.core import binder; binder.bind(globals())\n",
    "from learntools.pandas.grouping_and_sorting import *\n",
    "print(\"Setup complete.\")"
   ]
  },
  {
   "cell_type": "markdown",
   "id": "9a1f4fb3",
   "metadata": {
    "papermill": {
     "duration": 0.016902,
     "end_time": "2022-04-15T19:26:33.424868",
     "exception": false,
     "start_time": "2022-04-15T19:26:33.407966",
     "status": "completed"
    },
    "tags": []
   },
   "source": [
    "# Exercises"
   ]
  },
  {
   "cell_type": "markdown",
   "id": "eae28041",
   "metadata": {
    "papermill": {
     "duration": 0.016077,
     "end_time": "2022-04-15T19:26:33.457987",
     "exception": false,
     "start_time": "2022-04-15T19:26:33.441910",
     "status": "completed"
    },
    "tags": []
   },
   "source": [
    "## 1.\n",
    "Who are the most common wine reviewers in the dataset? Create a `Series` whose index is the `taster_twitter_handle` category from the dataset, and whose values count how many reviews each person wrote."
   ]
  },
  {
   "cell_type": "code",
   "execution_count": 2,
   "id": "483ad4d6",
   "metadata": {
    "execution": {
     "iopub.execute_input": "2022-04-15T19:26:33.493184Z",
     "iopub.status.busy": "2022-04-15T19:26:33.492282Z",
     "iopub.status.idle": "2022-04-15T19:26:33.513493Z",
     "shell.execute_reply": "2022-04-15T19:26:33.512665Z"
    },
    "papermill": {
     "duration": 0.04104,
     "end_time": "2022-04-15T19:26:33.515550",
     "exception": false,
     "start_time": "2022-04-15T19:26:33.474510",
     "status": "completed"
    },
    "tags": []
   },
   "outputs": [
    {
     "data": {
      "application/javascript": [
       "parent.postMessage({\"jupyterEvent\": \"custom.exercise_interaction\", \"data\": {\"outcomeType\": 1, \"valueTowardsCompletion\": 0.16666666666666666, \"interactionType\": 1, \"questionType\": 1, \"questionId\": \"1_ReviewsWritten\", \"learnToolsVersion\": \"0.3.4\", \"failureMessage\": \"\", \"exceptionClass\": \"\", \"trace\": \"\"}}, \"*\")"
      ],
      "text/plain": [
       "<IPython.core.display.Javascript object>"
      ]
     },
     "metadata": {},
     "output_type": "display_data"
    },
    {
     "data": {
      "text/markdown": [
       "<span style=\"color:#33cc33\">Correct:</span> \n",
       "\n",
       "\n",
       "```python\n",
       "reviews_written = reviews.groupby('taster_twitter_handle').size()\n",
       "```\n",
       "or\n",
       "```python\n",
       "reviews_written = reviews.groupby('taster_twitter_handle').taster_twitter_handle.count()\n",
       "```\n"
      ],
      "text/plain": [
       "Correct: \n",
       "\n",
       "\n",
       "```python\n",
       "reviews_written = reviews.groupby('taster_twitter_handle').size()\n",
       "```\n",
       "or\n",
       "```python\n",
       "reviews_written = reviews.groupby('taster_twitter_handle').taster_twitter_handle.count()\n",
       "```"
      ]
     },
     "metadata": {},
     "output_type": "display_data"
    }
   ],
   "source": [
    "# Your code here\n",
    "reviews_written = reviews.groupby('taster_twitter_handle').size()\n",
    "\n",
    "# Check your answer\n",
    "q1.check()"
   ]
  },
  {
   "cell_type": "code",
   "execution_count": 3,
   "id": "845b4996",
   "metadata": {
    "execution": {
     "iopub.execute_input": "2022-04-15T19:26:33.552127Z",
     "iopub.status.busy": "2022-04-15T19:26:33.551719Z",
     "iopub.status.idle": "2022-04-15T19:26:33.555179Z",
     "shell.execute_reply": "2022-04-15T19:26:33.554554Z"
    },
    "papermill": {
     "duration": 0.024022,
     "end_time": "2022-04-15T19:26:33.556958",
     "exception": false,
     "start_time": "2022-04-15T19:26:33.532936",
     "status": "completed"
    },
    "tags": []
   },
   "outputs": [],
   "source": [
    "#q1.hint()\n",
    "#q1.solution()"
   ]
  },
  {
   "cell_type": "markdown",
   "id": "18c2f702",
   "metadata": {
    "papermill": {
     "duration": 0.017181,
     "end_time": "2022-04-15T19:26:33.591600",
     "exception": false,
     "start_time": "2022-04-15T19:26:33.574419",
     "status": "completed"
    },
    "tags": []
   },
   "source": [
    "## 2.\n",
    "What is the best wine I can buy for a given amount of money? Create a `Series` whose index is wine prices and whose values is the maximum number of points a wine costing that much was given in a review. Sort the values by price, ascending (so that `4.0` dollars is at the top and `3300.0` dollars is at the bottom)."
   ]
  },
  {
   "cell_type": "code",
   "execution_count": 4,
   "id": "637e55ce",
   "metadata": {
    "execution": {
     "iopub.execute_input": "2022-04-15T19:26:33.629517Z",
     "iopub.status.busy": "2022-04-15T19:26:33.629230Z",
     "iopub.status.idle": "2022-04-15T19:26:33.639931Z",
     "shell.execute_reply": "2022-04-15T19:26:33.639110Z"
    },
    "papermill": {
     "duration": 0.031151,
     "end_time": "2022-04-15T19:26:33.641736",
     "exception": false,
     "start_time": "2022-04-15T19:26:33.610585",
     "status": "completed"
    },
    "tags": []
   },
   "outputs": [
    {
     "data": {
      "application/javascript": [
       "parent.postMessage({\"jupyterEvent\": \"custom.exercise_interaction\", \"data\": {\"outcomeType\": 1, \"valueTowardsCompletion\": 0.16666666666666666, \"interactionType\": 1, \"questionType\": 1, \"questionId\": \"2_BestRatingPerPrice\", \"learnToolsVersion\": \"0.3.4\", \"failureMessage\": \"\", \"exceptionClass\": \"\", \"trace\": \"\"}}, \"*\")"
      ],
      "text/plain": [
       "<IPython.core.display.Javascript object>"
      ]
     },
     "metadata": {},
     "output_type": "display_data"
    },
    {
     "data": {
      "text/markdown": [
       "<span style=\"color:#33cc33\">Correct</span>"
      ],
      "text/plain": [
       "Correct"
      ]
     },
     "metadata": {},
     "output_type": "display_data"
    }
   ],
   "source": [
    "best_rating_per_price = reviews.groupby('price')['points'].max().sort_index()\n",
    "\n",
    "# Check your answer\n",
    "q2.check()"
   ]
  },
  {
   "cell_type": "code",
   "execution_count": 5,
   "id": "26a73fbd",
   "metadata": {
    "execution": {
     "iopub.execute_input": "2022-04-15T19:26:33.679977Z",
     "iopub.status.busy": "2022-04-15T19:26:33.679241Z",
     "iopub.status.idle": "2022-04-15T19:26:33.682669Z",
     "shell.execute_reply": "2022-04-15T19:26:33.682071Z"
    },
    "papermill": {
     "duration": 0.024486,
     "end_time": "2022-04-15T19:26:33.684429",
     "exception": false,
     "start_time": "2022-04-15T19:26:33.659943",
     "status": "completed"
    },
    "tags": []
   },
   "outputs": [],
   "source": [
    "#q2.hint()\n",
    "#q2.solution()"
   ]
  },
  {
   "cell_type": "markdown",
   "id": "f76bc8e6",
   "metadata": {
    "papermill": {
     "duration": 0.018307,
     "end_time": "2022-04-15T19:26:33.720871",
     "exception": false,
     "start_time": "2022-04-15T19:26:33.702564",
     "status": "completed"
    },
    "tags": []
   },
   "source": [
    "## 3.\n",
    "What are the minimum and maximum prices for each `variety` of wine? Create a `DataFrame` whose index is the `variety` category from the dataset and whose values are the `min` and `max` values thereof."
   ]
  },
  {
   "cell_type": "code",
   "execution_count": 6,
   "id": "c51df88c",
   "metadata": {
    "execution": {
     "iopub.execute_input": "2022-04-15T19:26:33.760218Z",
     "iopub.status.busy": "2022-04-15T19:26:33.759435Z",
     "iopub.status.idle": "2022-04-15T19:26:33.780929Z",
     "shell.execute_reply": "2022-04-15T19:26:33.780288Z"
    },
    "papermill": {
     "duration": 0.043032,
     "end_time": "2022-04-15T19:26:33.782733",
     "exception": false,
     "start_time": "2022-04-15T19:26:33.739701",
     "status": "completed"
    },
    "tags": []
   },
   "outputs": [
    {
     "data": {
      "application/javascript": [
       "parent.postMessage({\"jupyterEvent\": \"custom.exercise_interaction\", \"data\": {\"outcomeType\": 1, \"valueTowardsCompletion\": 0.16666666666666666, \"interactionType\": 1, \"questionType\": 1, \"questionId\": \"3_PriceExtremes\", \"learnToolsVersion\": \"0.3.4\", \"failureMessage\": \"\", \"exceptionClass\": \"\", \"trace\": \"\"}}, \"*\")"
      ],
      "text/plain": [
       "<IPython.core.display.Javascript object>"
      ]
     },
     "metadata": {},
     "output_type": "display_data"
    },
    {
     "data": {
      "text/markdown": [
       "<span style=\"color:#33cc33\">Correct</span>"
      ],
      "text/plain": [
       "Correct"
      ]
     },
     "metadata": {},
     "output_type": "display_data"
    }
   ],
   "source": [
    "price_extremes = reviews.groupby('variety').price.agg([min, max])\n",
    "\n",
    "# Check your answer\n",
    "q3.check()"
   ]
  },
  {
   "cell_type": "code",
   "execution_count": 7,
   "id": "e806fe0a",
   "metadata": {
    "execution": {
     "iopub.execute_input": "2022-04-15T19:26:33.822650Z",
     "iopub.status.busy": "2022-04-15T19:26:33.822263Z",
     "iopub.status.idle": "2022-04-15T19:26:33.825324Z",
     "shell.execute_reply": "2022-04-15T19:26:33.824731Z"
    },
    "papermill": {
     "duration": 0.025364,
     "end_time": "2022-04-15T19:26:33.827190",
     "exception": false,
     "start_time": "2022-04-15T19:26:33.801826",
     "status": "completed"
    },
    "tags": []
   },
   "outputs": [],
   "source": [
    "#q3.hint()\n",
    "#q3.solution()"
   ]
  },
  {
   "cell_type": "markdown",
   "id": "b4344aca",
   "metadata": {
    "papermill": {
     "duration": 0.019534,
     "end_time": "2022-04-15T19:26:33.866384",
     "exception": false,
     "start_time": "2022-04-15T19:26:33.846850",
     "status": "completed"
    },
    "tags": []
   },
   "source": [
    "## 4.\n",
    "What are the most expensive wine varieties? Create a variable `sorted_varieties` containing a copy of the dataframe from the previous question where varieties are sorted in descending order based on minimum price, then on maximum price (to break ties)."
   ]
  },
  {
   "cell_type": "code",
   "execution_count": 8,
   "id": "97818e2a",
   "metadata": {
    "execution": {
     "iopub.execute_input": "2022-04-15T19:26:33.907664Z",
     "iopub.status.busy": "2022-04-15T19:26:33.907206Z",
     "iopub.status.idle": "2022-04-15T19:26:33.915744Z",
     "shell.execute_reply": "2022-04-15T19:26:33.914997Z"
    },
    "papermill": {
     "duration": 0.032092,
     "end_time": "2022-04-15T19:26:33.917688",
     "exception": false,
     "start_time": "2022-04-15T19:26:33.885596",
     "status": "completed"
    },
    "tags": []
   },
   "outputs": [
    {
     "data": {
      "application/javascript": [
       "parent.postMessage({\"jupyterEvent\": \"custom.exercise_interaction\", \"data\": {\"outcomeType\": 1, \"valueTowardsCompletion\": 0.16666666666666666, \"interactionType\": 1, \"questionType\": 1, \"questionId\": \"4_SortedVarieties\", \"learnToolsVersion\": \"0.3.4\", \"failureMessage\": \"\", \"exceptionClass\": \"\", \"trace\": \"\"}}, \"*\")"
      ],
      "text/plain": [
       "<IPython.core.display.Javascript object>"
      ]
     },
     "metadata": {},
     "output_type": "display_data"
    },
    {
     "data": {
      "text/markdown": [
       "<span style=\"color:#33cc33\">Correct</span>"
      ],
      "text/plain": [
       "Correct"
      ]
     },
     "metadata": {},
     "output_type": "display_data"
    }
   ],
   "source": [
    "sorted_varieties = price_extremes.sort_values(by=['min', 'max'], ascending=False)\n",
    "\n",
    "# Check your answer\n",
    "q4.check()"
   ]
  },
  {
   "cell_type": "code",
   "execution_count": 9,
   "id": "77fba3f6",
   "metadata": {
    "execution": {
     "iopub.execute_input": "2022-04-15T19:26:33.964155Z",
     "iopub.status.busy": "2022-04-15T19:26:33.963379Z",
     "iopub.status.idle": "2022-04-15T19:26:33.967900Z",
     "shell.execute_reply": "2022-04-15T19:26:33.967252Z"
    },
    "papermill": {
     "duration": 0.030131,
     "end_time": "2022-04-15T19:26:33.969825",
     "exception": false,
     "start_time": "2022-04-15T19:26:33.939694",
     "status": "completed"
    },
    "tags": []
   },
   "outputs": [],
   "source": [
    "#q4.hint()\n",
    "#q4.solution()"
   ]
  },
  {
   "cell_type": "markdown",
   "id": "d8a1f6f0",
   "metadata": {
    "papermill": {
     "duration": 0.023854,
     "end_time": "2022-04-15T19:26:34.019431",
     "exception": false,
     "start_time": "2022-04-15T19:26:33.995577",
     "status": "completed"
    },
    "tags": []
   },
   "source": [
    "## 5.\n",
    "Create a `Series` whose index is reviewers and whose values is the average review score given out by that reviewer. Hint: you will need the `taster_name` and `points` columns."
   ]
  },
  {
   "cell_type": "code",
   "execution_count": 10,
   "id": "41e2309f",
   "metadata": {
    "execution": {
     "iopub.execute_input": "2022-04-15T19:26:34.065388Z",
     "iopub.status.busy": "2022-04-15T19:26:34.064868Z",
     "iopub.status.idle": "2022-04-15T19:26:34.083947Z",
     "shell.execute_reply": "2022-04-15T19:26:34.082980Z"
    },
    "papermill": {
     "duration": 0.042668,
     "end_time": "2022-04-15T19:26:34.085867",
     "exception": false,
     "start_time": "2022-04-15T19:26:34.043199",
     "status": "completed"
    },
    "tags": []
   },
   "outputs": [
    {
     "data": {
      "application/javascript": [
       "parent.postMessage({\"jupyterEvent\": \"custom.exercise_interaction\", \"data\": {\"outcomeType\": 1, \"valueTowardsCompletion\": 0.16666666666666666, \"interactionType\": 1, \"questionType\": 1, \"questionId\": \"5_ReviewerMeanRatings\", \"learnToolsVersion\": \"0.3.4\", \"failureMessage\": \"\", \"exceptionClass\": \"\", \"trace\": \"\"}}, \"*\")"
      ],
      "text/plain": [
       "<IPython.core.display.Javascript object>"
      ]
     },
     "metadata": {},
     "output_type": "display_data"
    },
    {
     "data": {
      "text/markdown": [
       "<span style=\"color:#33cc33\">Correct</span>"
      ],
      "text/plain": [
       "Correct"
      ]
     },
     "metadata": {},
     "output_type": "display_data"
    }
   ],
   "source": [
    "\n",
    "reviewer_mean_ratings = reviews.groupby('taster_name').points.mean()\n",
    "# Check your answer\n",
    "q5.check()"
   ]
  },
  {
   "cell_type": "code",
   "execution_count": 11,
   "id": "b9ae08d6",
   "metadata": {
    "execution": {
     "iopub.execute_input": "2022-04-15T19:26:34.134593Z",
     "iopub.status.busy": "2022-04-15T19:26:34.134054Z",
     "iopub.status.idle": "2022-04-15T19:26:34.137187Z",
     "shell.execute_reply": "2022-04-15T19:26:34.136524Z"
    },
    "papermill": {
     "duration": 0.0324,
     "end_time": "2022-04-15T19:26:34.139309",
     "exception": false,
     "start_time": "2022-04-15T19:26:34.106909",
     "status": "completed"
    },
    "tags": []
   },
   "outputs": [],
   "source": [
    "#q5.hint()\n",
    "#q5.solution()"
   ]
  },
  {
   "cell_type": "markdown",
   "id": "c91e1fe6",
   "metadata": {
    "papermill": {
     "duration": 0.021207,
     "end_time": "2022-04-15T19:26:34.187798",
     "exception": false,
     "start_time": "2022-04-15T19:26:34.166591",
     "status": "completed"
    },
    "tags": []
   },
   "source": [
    "Are there significant differences in the average scores assigned by the various reviewers? Run the cell below to use the `describe()` method to see a summary of the range of values."
   ]
  },
  {
   "cell_type": "code",
   "execution_count": 12,
   "id": "f2f0015d",
   "metadata": {
    "execution": {
     "iopub.execute_input": "2022-04-15T19:26:34.232671Z",
     "iopub.status.busy": "2022-04-15T19:26:34.231743Z",
     "iopub.status.idle": "2022-04-15T19:26:34.249421Z",
     "shell.execute_reply": "2022-04-15T19:26:34.248555Z"
    },
    "papermill": {
     "duration": 0.042661,
     "end_time": "2022-04-15T19:26:34.251947",
     "exception": false,
     "start_time": "2022-04-15T19:26:34.209286",
     "status": "completed"
    },
    "tags": []
   },
   "outputs": [
    {
     "data": {
      "text/plain": [
       "count    19.000000\n",
       "mean     88.233026\n",
       "std       1.243610\n",
       "min      85.855422\n",
       "25%      87.323501\n",
       "50%      88.536235\n",
       "75%      88.975256\n",
       "max      90.562551\n",
       "Name: points, dtype: float64"
      ]
     },
     "execution_count": 12,
     "metadata": {},
     "output_type": "execute_result"
    }
   ],
   "source": [
    "reviewer_mean_ratings.describe()"
   ]
  },
  {
   "cell_type": "markdown",
   "id": "8fa170e6",
   "metadata": {
    "papermill": {
     "duration": 0.024729,
     "end_time": "2022-04-15T19:26:34.302934",
     "exception": false,
     "start_time": "2022-04-15T19:26:34.278205",
     "status": "completed"
    },
    "tags": []
   },
   "source": [
    "## 6.\n",
    "What combination of countries and varieties are most common? Create a `Series` whose index is a `MultiIndex`of `{country, variety}` pairs. For example, a pinot noir produced in the US should map to `{\"US\", \"Pinot Noir\"}`. Sort the values in the `Series` in descending order based on wine count."
   ]
  },
  {
   "cell_type": "code",
   "execution_count": 13,
   "id": "f0c74ebb",
   "metadata": {
    "execution": {
     "iopub.execute_input": "2022-04-15T19:26:34.349057Z",
     "iopub.status.busy": "2022-04-15T19:26:34.348541Z",
     "iopub.status.idle": "2022-04-15T19:26:34.380333Z",
     "shell.execute_reply": "2022-04-15T19:26:34.379617Z"
    },
    "papermill": {
     "duration": 0.056085,
     "end_time": "2022-04-15T19:26:34.382058",
     "exception": false,
     "start_time": "2022-04-15T19:26:34.325973",
     "status": "completed"
    },
    "tags": []
   },
   "outputs": [
    {
     "data": {
      "application/javascript": [
       "parent.postMessage({\"jupyterEvent\": \"custom.exercise_interaction\", \"data\": {\"outcomeType\": 1, \"valueTowardsCompletion\": 0.16666666666666666, \"interactionType\": 1, \"questionType\": 1, \"questionId\": \"6_GroupbyCountryVariety\", \"learnToolsVersion\": \"0.3.4\", \"failureMessage\": \"\", \"exceptionClass\": \"\", \"trace\": \"\"}}, \"*\")"
      ],
      "text/plain": [
       "<IPython.core.display.Javascript object>"
      ]
     },
     "metadata": {},
     "output_type": "display_data"
    },
    {
     "data": {
      "text/markdown": [
       "<span style=\"color:#33cc33\">Correct</span>"
      ],
      "text/plain": [
       "Correct"
      ]
     },
     "metadata": {},
     "output_type": "display_data"
    }
   ],
   "source": [
    "country_variety_counts = reviews.groupby(['country', 'variety']).size().sort_values(ascending=False)\n",
    "\n",
    "# Check your answer\n",
    "q6.check()"
   ]
  },
  {
   "cell_type": "code",
   "execution_count": 14,
   "id": "ca597393",
   "metadata": {
    "execution": {
     "iopub.execute_input": "2022-04-15T19:26:34.429093Z",
     "iopub.status.busy": "2022-04-15T19:26:34.428420Z",
     "iopub.status.idle": "2022-04-15T19:26:34.432185Z",
     "shell.execute_reply": "2022-04-15T19:26:34.431445Z"
    },
    "papermill": {
     "duration": 0.029685,
     "end_time": "2022-04-15T19:26:34.434031",
     "exception": false,
     "start_time": "2022-04-15T19:26:34.404346",
     "status": "completed"
    },
    "tags": []
   },
   "outputs": [],
   "source": [
    "#q6.hint()\n",
    "#q6.solution()"
   ]
  },
  {
   "cell_type": "markdown",
   "id": "e06c353a",
   "metadata": {
    "papermill": {
     "duration": 0.022136,
     "end_time": "2022-04-15T19:26:34.478631",
     "exception": false,
     "start_time": "2022-04-15T19:26:34.456495",
     "status": "completed"
    },
    "tags": []
   },
   "source": [
    "# Keep going\n",
    "\n",
    "Move on to the [**data types and missing data**](https://www.kaggle.com/residentmario/data-types-and-missing-values)."
   ]
  },
  {
   "cell_type": "markdown",
   "id": "1535a986",
   "metadata": {
    "papermill": {
     "duration": 0.022062,
     "end_time": "2022-04-15T19:26:34.523182",
     "exception": false,
     "start_time": "2022-04-15T19:26:34.501120",
     "status": "completed"
    },
    "tags": []
   },
   "source": [
    "---\n",
    "\n",
    "\n",
    "\n",
    "\n",
    "*Have questions or comments? Visit the [course discussion forum](https://www.kaggle.com/learn/pandas/discussion) to chat with other learners.*"
   ]
  }
 ],
 "metadata": {
  "kernelspec": {
   "display_name": "Python 3",
   "language": "python",
   "name": "python3"
  },
  "language_info": {
   "codemirror_mode": {
    "name": "ipython",
    "version": 3
   },
   "file_extension": ".py",
   "mimetype": "text/x-python",
   "name": "python",
   "nbconvert_exporter": "python",
   "pygments_lexer": "ipython3",
   "version": "3.7.12"
  },
  "papermill": {
   "default_parameters": {},
   "duration": 13.522632,
   "end_time": "2022-04-15T19:26:35.165584",
   "environment_variables": {},
   "exception": null,
   "input_path": "__notebook__.ipynb",
   "output_path": "__notebook__.ipynb",
   "parameters": {},
   "start_time": "2022-04-15T19:26:21.642952",
   "version": "2.3.4"
  }
 },
 "nbformat": 4,
 "nbformat_minor": 5
}
