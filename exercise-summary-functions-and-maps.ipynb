{
 "cells": [
  {
   "cell_type": "markdown",
   "id": "10ed457b",
   "metadata": {
    "papermill": {
     "duration": 0.024484,
     "end_time": "2022-04-15T19:25:17.586590",
     "exception": false,
     "start_time": "2022-04-15T19:25:17.562106",
     "status": "completed"
    },
    "tags": []
   },
   "source": [
    "**This notebook is an exercise in the [Pandas](https://www.kaggle.com/learn/pandas) course.  You can reference the tutorial at [this link](https://www.kaggle.com/residentmario/summary-functions-and-maps).**\n",
    "\n",
    "---\n"
   ]
  },
  {
   "cell_type": "markdown",
   "id": "ee16819e",
   "metadata": {
    "papermill": {
     "duration": 0.022601,
     "end_time": "2022-04-15T19:25:17.633817",
     "exception": false,
     "start_time": "2022-04-15T19:25:17.611216",
     "status": "completed"
    },
    "tags": []
   },
   "source": [
    "# Introduction\n",
    "\n",
    "Now you are ready to get a deeper understanding of your data.\n",
    "\n",
    "Run the following cell to load your data and some utility functions (including code to check your answers)."
   ]
  },
  {
   "cell_type": "code",
   "execution_count": 1,
   "id": "73fda31e",
   "metadata": {
    "execution": {
     "iopub.execute_input": "2022-04-15T19:25:17.682501Z",
     "iopub.status.busy": "2022-04-15T19:25:17.681823Z",
     "iopub.status.idle": "2022-04-15T19:25:26.189140Z",
     "shell.execute_reply": "2022-04-15T19:25:26.187998Z"
    },
    "papermill": {
     "duration": 8.537826,
     "end_time": "2022-04-15T19:25:26.194691",
     "exception": false,
     "start_time": "2022-04-15T19:25:17.656865",
     "status": "completed"
    },
    "tags": []
   },
   "outputs": [
    {
     "name": "stdout",
     "output_type": "stream",
     "text": [
      "Setup complete.\n"
     ]
    },
    {
     "data": {
      "text/html": [
       "<div>\n",
       "<style scoped>\n",
       "    .dataframe tbody tr th:only-of-type {\n",
       "        vertical-align: middle;\n",
       "    }\n",
       "\n",
       "    .dataframe tbody tr th {\n",
       "        vertical-align: top;\n",
       "    }\n",
       "\n",
       "    .dataframe thead th {\n",
       "        text-align: right;\n",
       "    }\n",
       "</style>\n",
       "<table border=\"1\" class=\"dataframe\">\n",
       "  <thead>\n",
       "    <tr style=\"text-align: right;\">\n",
       "      <th></th>\n",
       "      <th>country</th>\n",
       "      <th>description</th>\n",
       "      <th>designation</th>\n",
       "      <th>points</th>\n",
       "      <th>price</th>\n",
       "      <th>province</th>\n",
       "      <th>region_1</th>\n",
       "      <th>region_2</th>\n",
       "      <th>taster_name</th>\n",
       "      <th>taster_twitter_handle</th>\n",
       "      <th>title</th>\n",
       "      <th>variety</th>\n",
       "      <th>winery</th>\n",
       "    </tr>\n",
       "  </thead>\n",
       "  <tbody>\n",
       "    <tr>\n",
       "      <th>0</th>\n",
       "      <td>Italy</td>\n",
       "      <td>Aromas include tropical fruit, broom, brimston...</td>\n",
       "      <td>Vulkà Bianco</td>\n",
       "      <td>87</td>\n",
       "      <td>NaN</td>\n",
       "      <td>Sicily &amp; Sardinia</td>\n",
       "      <td>Etna</td>\n",
       "      <td>NaN</td>\n",
       "      <td>Kerin O’Keefe</td>\n",
       "      <td>@kerinokeefe</td>\n",
       "      <td>Nicosia 2013 Vulkà Bianco  (Etna)</td>\n",
       "      <td>White Blend</td>\n",
       "      <td>Nicosia</td>\n",
       "    </tr>\n",
       "    <tr>\n",
       "      <th>1</th>\n",
       "      <td>Portugal</td>\n",
       "      <td>This is ripe and fruity, a wine that is smooth...</td>\n",
       "      <td>Avidagos</td>\n",
       "      <td>87</td>\n",
       "      <td>15.0</td>\n",
       "      <td>Douro</td>\n",
       "      <td>NaN</td>\n",
       "      <td>NaN</td>\n",
       "      <td>Roger Voss</td>\n",
       "      <td>@vossroger</td>\n",
       "      <td>Quinta dos Avidagos 2011 Avidagos Red (Douro)</td>\n",
       "      <td>Portuguese Red</td>\n",
       "      <td>Quinta dos Avidagos</td>\n",
       "    </tr>\n",
       "    <tr>\n",
       "      <th>2</th>\n",
       "      <td>US</td>\n",
       "      <td>Tart and snappy, the flavors of lime flesh and...</td>\n",
       "      <td>NaN</td>\n",
       "      <td>87</td>\n",
       "      <td>14.0</td>\n",
       "      <td>Oregon</td>\n",
       "      <td>Willamette Valley</td>\n",
       "      <td>Willamette Valley</td>\n",
       "      <td>Paul Gregutt</td>\n",
       "      <td>@paulgwine</td>\n",
       "      <td>Rainstorm 2013 Pinot Gris (Willamette Valley)</td>\n",
       "      <td>Pinot Gris</td>\n",
       "      <td>Rainstorm</td>\n",
       "    </tr>\n",
       "    <tr>\n",
       "      <th>3</th>\n",
       "      <td>US</td>\n",
       "      <td>Pineapple rind, lemon pith and orange blossom ...</td>\n",
       "      <td>Reserve Late Harvest</td>\n",
       "      <td>87</td>\n",
       "      <td>13.0</td>\n",
       "      <td>Michigan</td>\n",
       "      <td>Lake Michigan Shore</td>\n",
       "      <td>NaN</td>\n",
       "      <td>Alexander Peartree</td>\n",
       "      <td>NaN</td>\n",
       "      <td>St. Julian 2013 Reserve Late Harvest Riesling ...</td>\n",
       "      <td>Riesling</td>\n",
       "      <td>St. Julian</td>\n",
       "    </tr>\n",
       "    <tr>\n",
       "      <th>4</th>\n",
       "      <td>US</td>\n",
       "      <td>Much like the regular bottling from 2012, this...</td>\n",
       "      <td>Vintner's Reserve Wild Child Block</td>\n",
       "      <td>87</td>\n",
       "      <td>65.0</td>\n",
       "      <td>Oregon</td>\n",
       "      <td>Willamette Valley</td>\n",
       "      <td>Willamette Valley</td>\n",
       "      <td>Paul Gregutt</td>\n",
       "      <td>@paulgwine</td>\n",
       "      <td>Sweet Cheeks 2012 Vintner's Reserve Wild Child...</td>\n",
       "      <td>Pinot Noir</td>\n",
       "      <td>Sweet Cheeks</td>\n",
       "    </tr>\n",
       "  </tbody>\n",
       "</table>\n",
       "</div>"
      ],
      "text/plain": [
       "    country                                        description  \\\n",
       "0     Italy  Aromas include tropical fruit, broom, brimston...   \n",
       "1  Portugal  This is ripe and fruity, a wine that is smooth...   \n",
       "2        US  Tart and snappy, the flavors of lime flesh and...   \n",
       "3        US  Pineapple rind, lemon pith and orange blossom ...   \n",
       "4        US  Much like the regular bottling from 2012, this...   \n",
       "\n",
       "                          designation  points  price           province  \\\n",
       "0                        Vulkà Bianco      87    NaN  Sicily & Sardinia   \n",
       "1                            Avidagos      87   15.0              Douro   \n",
       "2                                 NaN      87   14.0             Oregon   \n",
       "3                Reserve Late Harvest      87   13.0           Michigan   \n",
       "4  Vintner's Reserve Wild Child Block      87   65.0             Oregon   \n",
       "\n",
       "              region_1           region_2         taster_name  \\\n",
       "0                 Etna                NaN       Kerin O’Keefe   \n",
       "1                  NaN                NaN          Roger Voss   \n",
       "2    Willamette Valley  Willamette Valley        Paul Gregutt   \n",
       "3  Lake Michigan Shore                NaN  Alexander Peartree   \n",
       "4    Willamette Valley  Willamette Valley        Paul Gregutt   \n",
       "\n",
       "  taster_twitter_handle                                              title  \\\n",
       "0          @kerinokeefe                  Nicosia 2013 Vulkà Bianco  (Etna)   \n",
       "1            @vossroger      Quinta dos Avidagos 2011 Avidagos Red (Douro)   \n",
       "2           @paulgwine       Rainstorm 2013 Pinot Gris (Willamette Valley)   \n",
       "3                   NaN  St. Julian 2013 Reserve Late Harvest Riesling ...   \n",
       "4           @paulgwine   Sweet Cheeks 2012 Vintner's Reserve Wild Child...   \n",
       "\n",
       "          variety               winery  \n",
       "0     White Blend              Nicosia  \n",
       "1  Portuguese Red  Quinta dos Avidagos  \n",
       "2      Pinot Gris            Rainstorm  \n",
       "3        Riesling           St. Julian  \n",
       "4      Pinot Noir         Sweet Cheeks  "
      ]
     },
     "execution_count": 1,
     "metadata": {},
     "output_type": "execute_result"
    }
   ],
   "source": [
    "import pandas as pd\n",
    "pd.set_option(\"display.max_rows\", 5)\n",
    "reviews = pd.read_csv(\"../input/wine-reviews/winemag-data-130k-v2.csv\", index_col=0)\n",
    "\n",
    "from learntools.core import binder; binder.bind(globals())\n",
    "from learntools.pandas.summary_functions_and_maps import *\n",
    "print(\"Setup complete.\")\n",
    "\n",
    "reviews.head()"
   ]
  },
  {
   "cell_type": "markdown",
   "id": "cf292aa7",
   "metadata": {
    "papermill": {
     "duration": 0.023568,
     "end_time": "2022-04-15T19:25:26.243644",
     "exception": false,
     "start_time": "2022-04-15T19:25:26.220076",
     "status": "completed"
    },
    "tags": []
   },
   "source": [
    "# Exercises"
   ]
  },
  {
   "cell_type": "markdown",
   "id": "357c9685",
   "metadata": {
    "papermill": {
     "duration": 0.023437,
     "end_time": "2022-04-15T19:25:26.290898",
     "exception": false,
     "start_time": "2022-04-15T19:25:26.267461",
     "status": "completed"
    },
    "tags": []
   },
   "source": [
    "## 1.\n",
    "\n",
    "What is the median of the `points` column in the `reviews` DataFrame?"
   ]
  },
  {
   "cell_type": "code",
   "execution_count": 2,
   "id": "8eb1a131",
   "metadata": {
    "execution": {
     "iopub.execute_input": "2022-04-15T19:25:26.341480Z",
     "iopub.status.busy": "2022-04-15T19:25:26.341153Z",
     "iopub.status.idle": "2022-04-15T19:25:26.353770Z",
     "shell.execute_reply": "2022-04-15T19:25:26.352780Z"
    },
    "papermill": {
     "duration": 0.040675,
     "end_time": "2022-04-15T19:25:26.356275",
     "exception": false,
     "start_time": "2022-04-15T19:25:26.315600",
     "status": "completed"
    },
    "tags": []
   },
   "outputs": [
    {
     "data": {
      "application/javascript": [
       "parent.postMessage({\"jupyterEvent\": \"custom.exercise_interaction\", \"data\": {\"outcomeType\": 1, \"valueTowardsCompletion\": 0.14285714285714285, \"interactionType\": 1, \"questionType\": 1, \"questionId\": \"1_MedianPoints\", \"learnToolsVersion\": \"0.3.4\", \"failureMessage\": \"\", \"exceptionClass\": \"\", \"trace\": \"\"}}, \"*\")"
      ],
      "text/plain": [
       "<IPython.core.display.Javascript object>"
      ]
     },
     "metadata": {},
     "output_type": "display_data"
    },
    {
     "data": {
      "text/markdown": [
       "<span style=\"color:#33cc33\">Correct</span>"
      ],
      "text/plain": [
       "Correct"
      ]
     },
     "metadata": {},
     "output_type": "display_data"
    }
   ],
   "source": [
    "median_points = reviews.points.median()\n",
    "\n",
    "# Check your answer\n",
    "q1.check()"
   ]
  },
  {
   "cell_type": "code",
   "execution_count": 3,
   "id": "d04f1317",
   "metadata": {
    "execution": {
     "iopub.execute_input": "2022-04-15T19:25:26.408115Z",
     "iopub.status.busy": "2022-04-15T19:25:26.407787Z",
     "iopub.status.idle": "2022-04-15T19:25:26.410871Z",
     "shell.execute_reply": "2022-04-15T19:25:26.410218Z"
    },
    "papermill": {
     "duration": 0.031366,
     "end_time": "2022-04-15T19:25:26.412749",
     "exception": false,
     "start_time": "2022-04-15T19:25:26.381383",
     "status": "completed"
    },
    "tags": []
   },
   "outputs": [],
   "source": [
    "#q1.hint()\n",
    "#q1.solution()"
   ]
  },
  {
   "cell_type": "markdown",
   "id": "537fa735",
   "metadata": {
    "papermill": {
     "duration": 0.026798,
     "end_time": "2022-04-15T19:25:26.464648",
     "exception": false,
     "start_time": "2022-04-15T19:25:26.437850",
     "status": "completed"
    },
    "tags": []
   },
   "source": [
    "## 2. \n",
    "What countries are represented in the dataset? (Your answer should not include any duplicates.)"
   ]
  },
  {
   "cell_type": "code",
   "execution_count": 4,
   "id": "c3211ee1",
   "metadata": {
    "execution": {
     "iopub.execute_input": "2022-04-15T19:25:26.516909Z",
     "iopub.status.busy": "2022-04-15T19:25:26.516165Z",
     "iopub.status.idle": "2022-04-15T19:25:26.537980Z",
     "shell.execute_reply": "2022-04-15T19:25:26.537080Z"
    },
    "papermill": {
     "duration": 0.050174,
     "end_time": "2022-04-15T19:25:26.539917",
     "exception": false,
     "start_time": "2022-04-15T19:25:26.489743",
     "status": "completed"
    },
    "tags": []
   },
   "outputs": [
    {
     "data": {
      "application/javascript": [
       "parent.postMessage({\"jupyterEvent\": \"custom.exercise_interaction\", \"data\": {\"outcomeType\": 1, \"valueTowardsCompletion\": 0.14285714285714285, \"interactionType\": 1, \"questionType\": 2, \"questionId\": \"2_UniqueCountries\", \"learnToolsVersion\": \"0.3.4\", \"failureMessage\": \"\", \"exceptionClass\": \"\", \"trace\": \"\"}}, \"*\")"
      ],
      "text/plain": [
       "<IPython.core.display.Javascript object>"
      ]
     },
     "metadata": {},
     "output_type": "display_data"
    },
    {
     "data": {
      "text/markdown": [
       "<span style=\"color:#33cc33\">Correct</span>"
      ],
      "text/plain": [
       "Correct"
      ]
     },
     "metadata": {},
     "output_type": "display_data"
    }
   ],
   "source": [
    "countries =reviews.country.unique()\n",
    "# Check your answer\n",
    "q2.check()"
   ]
  },
  {
   "cell_type": "code",
   "execution_count": 5,
   "id": "b6ece841",
   "metadata": {
    "execution": {
     "iopub.execute_input": "2022-04-15T19:25:26.603162Z",
     "iopub.status.busy": "2022-04-15T19:25:26.602296Z",
     "iopub.status.idle": "2022-04-15T19:25:26.607265Z",
     "shell.execute_reply": "2022-04-15T19:25:26.606328Z"
    },
    "papermill": {
     "duration": 0.039987,
     "end_time": "2022-04-15T19:25:26.609470",
     "exception": false,
     "start_time": "2022-04-15T19:25:26.569483",
     "status": "completed"
    },
    "tags": []
   },
   "outputs": [],
   "source": [
    "#q2.hint()\n",
    "#q2.solution()"
   ]
  },
  {
   "cell_type": "markdown",
   "id": "72c49138",
   "metadata": {
    "papermill": {
     "duration": 0.034578,
     "end_time": "2022-04-15T19:25:26.681515",
     "exception": false,
     "start_time": "2022-04-15T19:25:26.646937",
     "status": "completed"
    },
    "tags": []
   },
   "source": [
    "## 3.\n",
    "How often does each country appear in the dataset? Create a Series `reviews_per_country` mapping countries to the count of reviews of wines from that country."
   ]
  },
  {
   "cell_type": "code",
   "execution_count": 6,
   "id": "9080876a",
   "metadata": {
    "execution": {
     "iopub.execute_input": "2022-04-15T19:25:26.741564Z",
     "iopub.status.busy": "2022-04-15T19:25:26.740515Z",
     "iopub.status.idle": "2022-04-15T19:25:26.769679Z",
     "shell.execute_reply": "2022-04-15T19:25:26.768868Z"
    },
    "papermill": {
     "duration": 0.061115,
     "end_time": "2022-04-15T19:25:26.771831",
     "exception": false,
     "start_time": "2022-04-15T19:25:26.710716",
     "status": "completed"
    },
    "tags": []
   },
   "outputs": [
    {
     "data": {
      "application/javascript": [
       "parent.postMessage({\"jupyterEvent\": \"custom.exercise_interaction\", \"data\": {\"outcomeType\": 1, \"valueTowardsCompletion\": 0.14285714285714285, \"interactionType\": 1, \"questionType\": 1, \"questionId\": \"3_ReviewsPerCountry\", \"learnToolsVersion\": \"0.3.4\", \"failureMessage\": \"\", \"exceptionClass\": \"\", \"trace\": \"\"}}, \"*\")"
      ],
      "text/plain": [
       "<IPython.core.display.Javascript object>"
      ]
     },
     "metadata": {},
     "output_type": "display_data"
    },
    {
     "data": {
      "text/markdown": [
       "<span style=\"color:#33cc33\">Correct</span>"
      ],
      "text/plain": [
       "Correct"
      ]
     },
     "metadata": {},
     "output_type": "display_data"
    }
   ],
   "source": [
    "reviews_per_country = reviews.country.value_counts()\n",
    "# Check your answer\n",
    "q3.check()"
   ]
  },
  {
   "cell_type": "code",
   "execution_count": 7,
   "id": "95764da0",
   "metadata": {
    "execution": {
     "iopub.execute_input": "2022-04-15T19:25:26.830009Z",
     "iopub.status.busy": "2022-04-15T19:25:26.829381Z",
     "iopub.status.idle": "2022-04-15T19:25:26.833304Z",
     "shell.execute_reply": "2022-04-15T19:25:26.832683Z"
    },
    "papermill": {
     "duration": 0.035511,
     "end_time": "2022-04-15T19:25:26.835260",
     "exception": false,
     "start_time": "2022-04-15T19:25:26.799749",
     "status": "completed"
    },
    "tags": []
   },
   "outputs": [],
   "source": [
    "#q3.hint()\n",
    "#q3.solution()"
   ]
  },
  {
   "cell_type": "markdown",
   "id": "e722ee9b",
   "metadata": {
    "papermill": {
     "duration": 0.02789,
     "end_time": "2022-04-15T19:25:26.891026",
     "exception": false,
     "start_time": "2022-04-15T19:25:26.863136",
     "status": "completed"
    },
    "tags": []
   },
   "source": [
    "## 4.\n",
    "Create variable `centered_price` containing a version of the `price` column with the mean price subtracted.\n",
    "\n",
    "(Note: this 'centering' transformation is a common preprocessing step before applying various machine learning algorithms.) "
   ]
  },
  {
   "cell_type": "code",
   "execution_count": 8,
   "id": "237fbbd8",
   "metadata": {
    "execution": {
     "iopub.execute_input": "2022-04-15T19:25:26.950875Z",
     "iopub.status.busy": "2022-04-15T19:25:26.950167Z",
     "iopub.status.idle": "2022-04-15T19:25:26.961434Z",
     "shell.execute_reply": "2022-04-15T19:25:26.960554Z"
    },
    "papermill": {
     "duration": 0.043894,
     "end_time": "2022-04-15T19:25:26.963405",
     "exception": false,
     "start_time": "2022-04-15T19:25:26.919511",
     "status": "completed"
    },
    "tags": []
   },
   "outputs": [
    {
     "data": {
      "application/javascript": [
       "parent.postMessage({\"jupyterEvent\": \"custom.exercise_interaction\", \"data\": {\"outcomeType\": 1, \"valueTowardsCompletion\": 0.14285714285714285, \"interactionType\": 1, \"questionType\": 1, \"questionId\": \"4_CenteredPrice\", \"learnToolsVersion\": \"0.3.4\", \"failureMessage\": \"\", \"exceptionClass\": \"\", \"trace\": \"\"}}, \"*\")"
      ],
      "text/plain": [
       "<IPython.core.display.Javascript object>"
      ]
     },
     "metadata": {},
     "output_type": "display_data"
    },
    {
     "data": {
      "text/markdown": [
       "<span style=\"color:#33cc33\">Correct</span>"
      ],
      "text/plain": [
       "Correct"
      ]
     },
     "metadata": {},
     "output_type": "display_data"
    }
   ],
   "source": [
    "centered_price = reviews.price-reviews.price.mean()\n",
    "# Check your answer\n",
    "q4.check()"
   ]
  },
  {
   "cell_type": "code",
   "execution_count": 9,
   "id": "923159e0",
   "metadata": {
    "execution": {
     "iopub.execute_input": "2022-04-15T19:25:27.023856Z",
     "iopub.status.busy": "2022-04-15T19:25:27.023154Z",
     "iopub.status.idle": "2022-04-15T19:25:27.027318Z",
     "shell.execute_reply": "2022-04-15T19:25:27.026606Z"
    },
    "papermill": {
     "duration": 0.037181,
     "end_time": "2022-04-15T19:25:27.029488",
     "exception": false,
     "start_time": "2022-04-15T19:25:26.992307",
     "status": "completed"
    },
    "tags": []
   },
   "outputs": [],
   "source": [
    "#q4.hint()\n",
    "#q4.solution()"
   ]
  },
  {
   "cell_type": "markdown",
   "id": "bac3a7bb",
   "metadata": {
    "papermill": {
     "duration": 0.028745,
     "end_time": "2022-04-15T19:25:27.087570",
     "exception": false,
     "start_time": "2022-04-15T19:25:27.058825",
     "status": "completed"
    },
    "tags": []
   },
   "source": [
    "## 5.\n",
    "I'm an economical wine buyer. Which wine is the \"best bargain\"? Create a variable `bargain_wine` with the title of the wine with the highest points-to-price ratio in the dataset."
   ]
  },
  {
   "cell_type": "code",
   "execution_count": 10,
   "id": "7da68397",
   "metadata": {
    "execution": {
     "iopub.execute_input": "2022-04-15T19:25:27.148410Z",
     "iopub.status.busy": "2022-04-15T19:25:27.147759Z",
     "iopub.status.idle": "2022-04-15T19:25:27.163237Z",
     "shell.execute_reply": "2022-04-15T19:25:27.162385Z"
    },
    "papermill": {
     "duration": 0.048305,
     "end_time": "2022-04-15T19:25:27.165329",
     "exception": false,
     "start_time": "2022-04-15T19:25:27.117024",
     "status": "completed"
    },
    "tags": []
   },
   "outputs": [
    {
     "data": {
      "application/javascript": [
       "parent.postMessage({\"jupyterEvent\": \"custom.exercise_interaction\", \"data\": {\"outcomeType\": 1, \"valueTowardsCompletion\": 0.14285714285714285, \"interactionType\": 1, \"questionType\": 2, \"questionId\": \"5_BargainWine\", \"learnToolsVersion\": \"0.3.4\", \"failureMessage\": \"\", \"exceptionClass\": \"\", \"trace\": \"\"}}, \"*\")"
      ],
      "text/plain": [
       "<IPython.core.display.Javascript object>"
      ]
     },
     "metadata": {},
     "output_type": "display_data"
    },
    {
     "data": {
      "text/markdown": [
       "<span style=\"color:#33cc33\">Correct</span>"
      ],
      "text/plain": [
       "Correct"
      ]
     },
     "metadata": {},
     "output_type": "display_data"
    }
   ],
   "source": [
    "bargain_idx = (reviews.points / reviews.price).idxmax()\n",
    "bargain_wine = reviews.loc[bargain_idx, 'title']\n",
    "# Check your answer\n",
    "q5.check()"
   ]
  },
  {
   "cell_type": "code",
   "execution_count": 11,
   "id": "b40811b3",
   "metadata": {
    "execution": {
     "iopub.execute_input": "2022-04-15T19:25:27.228116Z",
     "iopub.status.busy": "2022-04-15T19:25:27.227427Z",
     "iopub.status.idle": "2022-04-15T19:25:27.231043Z",
     "shell.execute_reply": "2022-04-15T19:25:27.230340Z"
    },
    "papermill": {
     "duration": 0.037788,
     "end_time": "2022-04-15T19:25:27.233035",
     "exception": false,
     "start_time": "2022-04-15T19:25:27.195247",
     "status": "completed"
    },
    "tags": []
   },
   "outputs": [],
   "source": [
    "#q5.hint()\n",
    "#q5.solution()"
   ]
  },
  {
   "cell_type": "markdown",
   "id": "f03fa9a9",
   "metadata": {
    "papermill": {
     "duration": 0.030525,
     "end_time": "2022-04-15T19:25:27.295348",
     "exception": false,
     "start_time": "2022-04-15T19:25:27.264823",
     "status": "completed"
    },
    "tags": []
   },
   "source": [
    "## 6.\n",
    "There are only so many words you can use when describing a bottle of wine. Is a wine more likely to be \"tropical\" or \"fruity\"? Create a Series `descriptor_counts` counting how many times each of these two words appears in the `description` column in the dataset. (For simplicity, let's ignore the capitalized versions of these words.)"
   ]
  },
  {
   "cell_type": "code",
   "execution_count": 12,
   "id": "130f4a94",
   "metadata": {
    "execution": {
     "iopub.execute_input": "2022-04-15T19:25:27.359618Z",
     "iopub.status.busy": "2022-04-15T19:25:27.359125Z",
     "iopub.status.idle": "2022-04-15T19:25:27.517488Z",
     "shell.execute_reply": "2022-04-15T19:25:27.516783Z"
    },
    "papermill": {
     "duration": 0.192955,
     "end_time": "2022-04-15T19:25:27.519610",
     "exception": false,
     "start_time": "2022-04-15T19:25:27.326655",
     "status": "completed"
    },
    "tags": []
   },
   "outputs": [
    {
     "data": {
      "application/javascript": [
       "parent.postMessage({\"jupyterEvent\": \"custom.exercise_interaction\", \"data\": {\"outcomeType\": 1, \"valueTowardsCompletion\": 0.14285714285714285, \"interactionType\": 1, \"questionType\": 1, \"questionId\": \"6_DescriptorCounts\", \"learnToolsVersion\": \"0.3.4\", \"failureMessage\": \"\", \"exceptionClass\": \"\", \"trace\": \"\"}}, \"*\")"
      ],
      "text/plain": [
       "<IPython.core.display.Javascript object>"
      ]
     },
     "metadata": {},
     "output_type": "display_data"
    },
    {
     "data": {
      "text/markdown": [
       "<span style=\"color:#33cc33\">Correct</span>"
      ],
      "text/plain": [
       "Correct"
      ]
     },
     "metadata": {},
     "output_type": "display_data"
    }
   ],
   "source": [
    "n_trop = reviews.description.map(lambda desc: \"tropical\" in desc).sum()\n",
    "n_fruity = reviews.description.map(lambda desc: \"fruity\" in desc).sum()\n",
    "descriptor_counts = pd.Series([n_trop, n_fruity], index=['tropical', 'fruity'])\n",
    "\n",
    "# Check your answer\n",
    "q6.check()"
   ]
  },
  {
   "cell_type": "code",
   "execution_count": 13,
   "id": "7d50a567",
   "metadata": {
    "execution": {
     "iopub.execute_input": "2022-04-15T19:25:27.585189Z",
     "iopub.status.busy": "2022-04-15T19:25:27.584664Z",
     "iopub.status.idle": "2022-04-15T19:25:27.588091Z",
     "shell.execute_reply": "2022-04-15T19:25:27.587110Z"
    },
    "papermill": {
     "duration": 0.039204,
     "end_time": "2022-04-15T19:25:27.590351",
     "exception": false,
     "start_time": "2022-04-15T19:25:27.551147",
     "status": "completed"
    },
    "tags": []
   },
   "outputs": [],
   "source": [
    "#q6.hint()\n",
    "#q6.solution()"
   ]
  },
  {
   "cell_type": "markdown",
   "id": "2f2838f8",
   "metadata": {
    "papermill": {
     "duration": 0.03142,
     "end_time": "2022-04-15T19:25:27.654790",
     "exception": false,
     "start_time": "2022-04-15T19:25:27.623370",
     "status": "completed"
    },
    "tags": []
   },
   "source": [
    "## 7.\n",
    "We'd like to host these wine reviews on our website, but a rating system ranging from 80 to 100 points is too hard to understand - we'd like to translate them into simple star ratings. A score of 95 or higher counts as 3 stars, a score of at least 85 but less than 95 is 2 stars. Any other score is 1 star.\n",
    "\n",
    "Also, the Canadian Vintners Association bought a lot of ads on the site, so any wines from Canada should automatically get 3 stars, regardless of points.\n",
    "\n",
    "Create a series `star_ratings` with the number of stars corresponding to each review in the dataset."
   ]
  },
  {
   "cell_type": "code",
   "execution_count": 14,
   "id": "7e14c999",
   "metadata": {
    "execution": {
     "iopub.execute_input": "2022-04-15T19:25:27.721691Z",
     "iopub.status.busy": "2022-04-15T19:25:27.721171Z",
     "iopub.status.idle": "2022-04-15T19:25:32.646122Z",
     "shell.execute_reply": "2022-04-15T19:25:32.645212Z"
    },
    "papermill": {
     "duration": 4.960806,
     "end_time": "2022-04-15T19:25:32.648458",
     "exception": false,
     "start_time": "2022-04-15T19:25:27.687652",
     "status": "completed"
    },
    "tags": []
   },
   "outputs": [
    {
     "data": {
      "application/javascript": [
       "parent.postMessage({\"jupyterEvent\": \"custom.exercise_interaction\", \"data\": {\"outcomeType\": 1, \"valueTowardsCompletion\": 0.14285714285714285, \"interactionType\": 1, \"questionType\": 1, \"questionId\": \"7_StarRatings\", \"learnToolsVersion\": \"0.3.4\", \"failureMessage\": \"\", \"exceptionClass\": \"\", \"trace\": \"\"}}, \"*\")"
      ],
      "text/plain": [
       "<IPython.core.display.Javascript object>"
      ]
     },
     "metadata": {},
     "output_type": "display_data"
    },
    {
     "data": {
      "text/markdown": [
       "<span style=\"color:#33cc33\">Correct</span>"
      ],
      "text/plain": [
       "Correct"
      ]
     },
     "metadata": {},
     "output_type": "display_data"
    }
   ],
   "source": [
    "def stars(row):\n",
    "    if row.country == 'Canada':\n",
    "        return 3\n",
    "    elif row.points >= 95:\n",
    "        return 3\n",
    "    elif row.points >= 85:\n",
    "        return 2\n",
    "    else:\n",
    "        return 1\n",
    "\n",
    "star_ratings = reviews.apply(stars, axis='columns')\n",
    "\n",
    "# Check your answer\n",
    "q7.check()"
   ]
  },
  {
   "cell_type": "code",
   "execution_count": 15,
   "id": "121173bc",
   "metadata": {
    "execution": {
     "iopub.execute_input": "2022-04-15T19:25:32.716804Z",
     "iopub.status.busy": "2022-04-15T19:25:32.716210Z",
     "iopub.status.idle": "2022-04-15T19:25:32.719632Z",
     "shell.execute_reply": "2022-04-15T19:25:32.718850Z"
    },
    "papermill": {
     "duration": 0.040254,
     "end_time": "2022-04-15T19:25:32.721660",
     "exception": false,
     "start_time": "2022-04-15T19:25:32.681406",
     "status": "completed"
    },
    "tags": []
   },
   "outputs": [],
   "source": [
    "#q7.hint()\n",
    "#q7.solution()"
   ]
  },
  {
   "cell_type": "markdown",
   "id": "0b88eb84",
   "metadata": {
    "papermill": {
     "duration": 0.03397,
     "end_time": "2022-04-15T19:25:32.789929",
     "exception": false,
     "start_time": "2022-04-15T19:25:32.755959",
     "status": "completed"
    },
    "tags": []
   },
   "source": [
    "# Keep going\n",
    "Continue to **[grouping and sorting](https://www.kaggle.com/residentmario/grouping-and-sorting)**."
   ]
  },
  {
   "cell_type": "markdown",
   "id": "db6060cf",
   "metadata": {
    "papermill": {
     "duration": 0.032521,
     "end_time": "2022-04-15T19:25:32.855521",
     "exception": false,
     "start_time": "2022-04-15T19:25:32.823000",
     "status": "completed"
    },
    "tags": []
   },
   "source": [
    "---\n",
    "\n",
    "\n",
    "\n",
    "\n",
    "*Have questions or comments? Visit the [course discussion forum](https://www.kaggle.com/learn/pandas/discussion) to chat with other learners.*"
   ]
  }
 ],
 "metadata": {
  "kernelspec": {
   "display_name": "Python 3",
   "language": "python",
   "name": "python3"
  },
  "language_info": {
   "codemirror_mode": {
    "name": "ipython",
    "version": 3
   },
   "file_extension": ".py",
   "mimetype": "text/x-python",
   "name": "python",
   "nbconvert_exporter": "python",
   "pygments_lexer": "ipython3",
   "version": "3.7.12"
  },
  "papermill": {
   "default_parameters": {},
   "duration": 27.249625,
   "end_time": "2022-04-15T19:25:33.813242",
   "environment_variables": {},
   "exception": null,
   "input_path": "__notebook__.ipynb",
   "output_path": "__notebook__.ipynb",
   "parameters": {},
   "start_time": "2022-04-15T19:25:06.563617",
   "version": "2.3.4"
  }
 },
 "nbformat": 4,
 "nbformat_minor": 5
}
