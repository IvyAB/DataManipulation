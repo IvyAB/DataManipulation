{
 "cells": [
  {
   "cell_type": "markdown",
   "id": "7e107b56",
   "metadata": {
    "papermill": {
     "duration": 0.018084,
     "end_time": "2022-04-15T19:27:36.062998",
     "exception": false,
     "start_time": "2022-04-15T19:27:36.044914",
     "status": "completed"
    },
    "tags": []
   },
   "source": [
    "**This notebook is an exercise in the [Pandas](https://www.kaggle.com/learn/pandas) course.  You can reference the tutorial at [this link](https://www.kaggle.com/residentmario/data-types-and-missing-values).**\n",
    "\n",
    "---\n"
   ]
  },
  {
   "cell_type": "markdown",
   "id": "81f00165",
   "metadata": {
    "papermill": {
     "duration": 0.015975,
     "end_time": "2022-04-15T19:27:36.094943",
     "exception": false,
     "start_time": "2022-04-15T19:27:36.078968",
     "status": "completed"
    },
    "tags": []
   },
   "source": [
    "# Introduction\n",
    "\n",
    "Run the following cell to load your data and some utility functions."
   ]
  },
  {
   "cell_type": "code",
   "execution_count": 1,
   "id": "55aa5e4f",
   "metadata": {
    "execution": {
     "iopub.execute_input": "2022-04-15T19:27:36.128292Z",
     "iopub.status.busy": "2022-04-15T19:27:36.127727Z",
     "iopub.status.idle": "2022-04-15T19:27:39.037611Z",
     "shell.execute_reply": "2022-04-15T19:27:39.036597Z"
    },
    "papermill": {
     "duration": 2.930097,
     "end_time": "2022-04-15T19:27:39.040590",
     "exception": false,
     "start_time": "2022-04-15T19:27:36.110493",
     "status": "completed"
    },
    "tags": []
   },
   "outputs": [
    {
     "name": "stdout",
     "output_type": "stream",
     "text": [
      "Setup complete.\n"
     ]
    }
   ],
   "source": [
    "import pandas as pd\n",
    "\n",
    "reviews = pd.read_csv(\"../input/wine-reviews/winemag-data-130k-v2.csv\", index_col=0)\n",
    "\n",
    "from learntools.core import binder; binder.bind(globals())\n",
    "from learntools.pandas.data_types_and_missing_data import *\n",
    "print(\"Setup complete.\")"
   ]
  },
  {
   "cell_type": "markdown",
   "id": "32912123",
   "metadata": {
    "papermill": {
     "duration": 0.015841,
     "end_time": "2022-04-15T19:27:39.073235",
     "exception": false,
     "start_time": "2022-04-15T19:27:39.057394",
     "status": "completed"
    },
    "tags": []
   },
   "source": [
    "# Exercises"
   ]
  },
  {
   "cell_type": "markdown",
   "id": "5fdaa5fd",
   "metadata": {
    "papermill": {
     "duration": 0.015755,
     "end_time": "2022-04-15T19:27:39.105210",
     "exception": false,
     "start_time": "2022-04-15T19:27:39.089455",
     "status": "completed"
    },
    "tags": []
   },
   "source": [
    "## 1. \n",
    "What is the data type of the `points` column in the dataset?"
   ]
  },
  {
   "cell_type": "code",
   "execution_count": 2,
   "id": "698ac67b",
   "metadata": {
    "execution": {
     "iopub.execute_input": "2022-04-15T19:27:39.138726Z",
     "iopub.status.busy": "2022-04-15T19:27:39.138446Z",
     "iopub.status.idle": "2022-04-15T19:27:39.148099Z",
     "shell.execute_reply": "2022-04-15T19:27:39.147510Z"
    },
    "papermill": {
     "duration": 0.028787,
     "end_time": "2022-04-15T19:27:39.149970",
     "exception": false,
     "start_time": "2022-04-15T19:27:39.121183",
     "status": "completed"
    },
    "tags": []
   },
   "outputs": [
    {
     "data": {
      "application/javascript": [
       "parent.postMessage({\"jupyterEvent\": \"custom.exercise_interaction\", \"data\": {\"outcomeType\": 1, \"valueTowardsCompletion\": 0.25, \"interactionType\": 1, \"questionType\": 1, \"questionId\": \"1_PointsDtype\", \"learnToolsVersion\": \"0.3.4\", \"failureMessage\": \"\", \"exceptionClass\": \"\", \"trace\": \"\"}}, \"*\")"
      ],
      "text/plain": [
       "<IPython.core.display.Javascript object>"
      ]
     },
     "metadata": {},
     "output_type": "display_data"
    },
    {
     "data": {
      "text/markdown": [
       "<span style=\"color:#33cc33\">Correct</span>"
      ],
      "text/plain": [
       "Correct"
      ]
     },
     "metadata": {},
     "output_type": "display_data"
    }
   ],
   "source": [
    "# Your code here\n",
    "dtype = reviews.points.dtype\n",
    "\n",
    "# Check your answer\n",
    "q1.check()"
   ]
  },
  {
   "cell_type": "code",
   "execution_count": 3,
   "id": "f4b97dc5",
   "metadata": {
    "execution": {
     "iopub.execute_input": "2022-04-15T19:27:39.186034Z",
     "iopub.status.busy": "2022-04-15T19:27:39.185579Z",
     "iopub.status.idle": "2022-04-15T19:27:39.188362Z",
     "shell.execute_reply": "2022-04-15T19:27:39.187771Z"
    },
    "papermill": {
     "duration": 0.022891,
     "end_time": "2022-04-15T19:27:39.190111",
     "exception": false,
     "start_time": "2022-04-15T19:27:39.167220",
     "status": "completed"
    },
    "tags": []
   },
   "outputs": [],
   "source": [
    "#q1.hint()\n",
    "#q1.solution()"
   ]
  },
  {
   "cell_type": "markdown",
   "id": "96628f5b",
   "metadata": {
    "papermill": {
     "duration": 0.016833,
     "end_time": "2022-04-15T19:27:39.223994",
     "exception": false,
     "start_time": "2022-04-15T19:27:39.207161",
     "status": "completed"
    },
    "tags": []
   },
   "source": [
    "## 2. \n",
    "Create a Series from entries in the `points` column, but convert the entries to strings. Hint: strings are `str` in native Python."
   ]
  },
  {
   "cell_type": "code",
   "execution_count": 4,
   "id": "62cfe77b",
   "metadata": {
    "execution": {
     "iopub.execute_input": "2022-04-15T19:27:39.259681Z",
     "iopub.status.busy": "2022-04-15T19:27:39.259223Z",
     "iopub.status.idle": "2022-04-15T19:27:39.402732Z",
     "shell.execute_reply": "2022-04-15T19:27:39.401886Z"
    },
    "papermill": {
     "duration": 0.163789,
     "end_time": "2022-04-15T19:27:39.404787",
     "exception": false,
     "start_time": "2022-04-15T19:27:39.240998",
     "status": "completed"
    },
    "tags": []
   },
   "outputs": [
    {
     "data": {
      "application/javascript": [
       "parent.postMessage({\"jupyterEvent\": \"custom.exercise_interaction\", \"data\": {\"outcomeType\": 1, \"valueTowardsCompletion\": 0.25, \"interactionType\": 1, \"questionType\": 1, \"questionId\": \"2_StrPoints\", \"learnToolsVersion\": \"0.3.4\", \"failureMessage\": \"\", \"exceptionClass\": \"\", \"trace\": \"\"}}, \"*\")"
      ],
      "text/plain": [
       "<IPython.core.display.Javascript object>"
      ]
     },
     "metadata": {},
     "output_type": "display_data"
    },
    {
     "data": {
      "text/markdown": [
       "<span style=\"color:#33cc33\">Correct</span>"
      ],
      "text/plain": [
       "Correct"
      ]
     },
     "metadata": {},
     "output_type": "display_data"
    }
   ],
   "source": [
    "point_strings = reviews.points.astype(str)\n",
    "\n",
    "# Check your answer\n",
    "q2.check()"
   ]
  },
  {
   "cell_type": "code",
   "execution_count": 5,
   "id": "31c7398d",
   "metadata": {
    "execution": {
     "iopub.execute_input": "2022-04-15T19:27:39.442962Z",
     "iopub.status.busy": "2022-04-15T19:27:39.442698Z",
     "iopub.status.idle": "2022-04-15T19:27:39.446045Z",
     "shell.execute_reply": "2022-04-15T19:27:39.445150Z"
    },
    "papermill": {
     "duration": 0.024831,
     "end_time": "2022-04-15T19:27:39.447914",
     "exception": false,
     "start_time": "2022-04-15T19:27:39.423083",
     "status": "completed"
    },
    "tags": []
   },
   "outputs": [],
   "source": [
    "#q2.hint()\n",
    "#q2.solution()"
   ]
  },
  {
   "cell_type": "markdown",
   "id": "f82377b7",
   "metadata": {
    "papermill": {
     "duration": 0.017873,
     "end_time": "2022-04-15T19:27:39.483856",
     "exception": false,
     "start_time": "2022-04-15T19:27:39.465983",
     "status": "completed"
    },
    "tags": []
   },
   "source": [
    "## 3.\n",
    "Sometimes the price column is null. How many reviews in the dataset are missing a price?"
   ]
  },
  {
   "cell_type": "code",
   "execution_count": 6,
   "id": "c5f5b050",
   "metadata": {
    "execution": {
     "iopub.execute_input": "2022-04-15T19:27:39.521952Z",
     "iopub.status.busy": "2022-04-15T19:27:39.521665Z",
     "iopub.status.idle": "2022-04-15T19:27:39.529255Z",
     "shell.execute_reply": "2022-04-15T19:27:39.528705Z"
    },
    "papermill": {
     "duration": 0.02909,
     "end_time": "2022-04-15T19:27:39.531074",
     "exception": false,
     "start_time": "2022-04-15T19:27:39.501984",
     "status": "completed"
    },
    "tags": []
   },
   "outputs": [
    {
     "data": {
      "application/javascript": [
       "parent.postMessage({\"jupyterEvent\": \"custom.exercise_interaction\", \"data\": {\"outcomeType\": 1, \"valueTowardsCompletion\": 0.25, \"interactionType\": 1, \"questionType\": 1, \"questionId\": \"3_CountMissingPrices\", \"learnToolsVersion\": \"0.3.4\", \"failureMessage\": \"\", \"exceptionClass\": \"\", \"trace\": \"\"}}, \"*\")"
      ],
      "text/plain": [
       "<IPython.core.display.Javascript object>"
      ]
     },
     "metadata": {},
     "output_type": "display_data"
    },
    {
     "data": {
      "text/markdown": [
       "<span style=\"color:#33cc33\">Correct</span>"
      ],
      "text/plain": [
       "Correct"
      ]
     },
     "metadata": {},
     "output_type": "display_data"
    }
   ],
   "source": [
    "n_missing_prices = pd.isnull(reviews.price).sum()\n",
    "\n",
    "# Check your answer\n",
    "q3.check()"
   ]
  },
  {
   "cell_type": "code",
   "execution_count": 7,
   "id": "268de930",
   "metadata": {
    "execution": {
     "iopub.execute_input": "2022-04-15T19:27:39.572294Z",
     "iopub.status.busy": "2022-04-15T19:27:39.571887Z",
     "iopub.status.idle": "2022-04-15T19:27:39.574612Z",
     "shell.execute_reply": "2022-04-15T19:27:39.574049Z"
    },
    "papermill": {
     "duration": 0.025825,
     "end_time": "2022-04-15T19:27:39.576354",
     "exception": false,
     "start_time": "2022-04-15T19:27:39.550529",
     "status": "completed"
    },
    "tags": []
   },
   "outputs": [],
   "source": [
    "#q3.hint()\n",
    "#q3.solution()"
   ]
  },
  {
   "cell_type": "markdown",
   "id": "67108a87",
   "metadata": {
    "papermill": {
     "duration": 0.019025,
     "end_time": "2022-04-15T19:27:39.614724",
     "exception": false,
     "start_time": "2022-04-15T19:27:39.595699",
     "status": "completed"
    },
    "tags": []
   },
   "source": [
    "## 4.\n",
    "What are the most common wine-producing regions? Create a Series counting the number of times each value occurs in the `region_1` field. This field is often missing data, so replace missing values with `Unknown`. Sort in descending order.  Your output should look something like this:\n",
    "\n",
    "```\n",
    "Unknown                    21247\n",
    "Napa Valley                 4480\n",
    "                           ...  \n",
    "Bardolino Superiore            1\n",
    "Primitivo del Tarantino        1\n",
    "Name: region_1, Length: 1230, dtype: int64\n",
    "```"
   ]
  },
  {
   "cell_type": "code",
   "execution_count": 8,
   "id": "d247110f",
   "metadata": {
    "execution": {
     "iopub.execute_input": "2022-04-15T19:27:39.656666Z",
     "iopub.status.busy": "2022-04-15T19:27:39.656239Z",
     "iopub.status.idle": "2022-04-15T19:27:39.729961Z",
     "shell.execute_reply": "2022-04-15T19:27:39.729404Z"
    },
    "papermill": {
     "duration": 0.096161,
     "end_time": "2022-04-15T19:27:39.731711",
     "exception": false,
     "start_time": "2022-04-15T19:27:39.635550",
     "status": "completed"
    },
    "tags": []
   },
   "outputs": [
    {
     "data": {
      "application/javascript": [
       "parent.postMessage({\"jupyterEvent\": \"custom.exercise_interaction\", \"data\": {\"outcomeType\": 1, \"valueTowardsCompletion\": 0.25, \"interactionType\": 1, \"questionType\": 2, \"questionId\": \"4_ReviewsPerRegion\", \"learnToolsVersion\": \"0.3.4\", \"failureMessage\": \"\", \"exceptionClass\": \"\", \"trace\": \"\"}}, \"*\")"
      ],
      "text/plain": [
       "<IPython.core.display.Javascript object>"
      ]
     },
     "metadata": {},
     "output_type": "display_data"
    },
    {
     "data": {
      "text/markdown": [
       "<span style=\"color:#33cc33\">Correct</span>"
      ],
      "text/plain": [
       "Correct"
      ]
     },
     "metadata": {},
     "output_type": "display_data"
    }
   ],
   "source": [
    "reviews_per_region = reviews.region_1.fillna('Unknown').value_counts().sort_values(ascending=False)\n",
    "\n",
    "# Check your answer\n",
    "q4.check()"
   ]
  },
  {
   "cell_type": "code",
   "execution_count": 9,
   "id": "dc3be381",
   "metadata": {
    "execution": {
     "iopub.execute_input": "2022-04-15T19:27:39.775220Z",
     "iopub.status.busy": "2022-04-15T19:27:39.774801Z",
     "iopub.status.idle": "2022-04-15T19:27:39.777522Z",
     "shell.execute_reply": "2022-04-15T19:27:39.776955Z"
    },
    "papermill": {
     "duration": 0.027125,
     "end_time": "2022-04-15T19:27:39.779467",
     "exception": false,
     "start_time": "2022-04-15T19:27:39.752342",
     "status": "completed"
    },
    "tags": []
   },
   "outputs": [],
   "source": [
    "#q4.hint()\n",
    "#q4.solution()"
   ]
  },
  {
   "cell_type": "markdown",
   "id": "b808e820",
   "metadata": {
    "papermill": {
     "duration": 0.0203,
     "end_time": "2022-04-15T19:27:39.820294",
     "exception": false,
     "start_time": "2022-04-15T19:27:39.799994",
     "status": "completed"
    },
    "tags": []
   },
   "source": [
    "# Keep going\n",
    "\n",
    "Move on to **[renaming and combining](https://www.kaggle.com/residentmario/renaming-and-combining)**."
   ]
  },
  {
   "cell_type": "markdown",
   "id": "342c18ba",
   "metadata": {
    "papermill": {
     "duration": 0.021035,
     "end_time": "2022-04-15T19:27:39.861794",
     "exception": false,
     "start_time": "2022-04-15T19:27:39.840759",
     "status": "completed"
    },
    "tags": []
   },
   "source": [
    "---\n",
    "\n",
    "\n",
    "\n",
    "\n",
    "*Have questions or comments? Visit the [course discussion forum](https://www.kaggle.com/learn/pandas/discussion) to chat with other learners.*"
   ]
  }
 ],
 "metadata": {
  "kernelspec": {
   "display_name": "Python 3",
   "language": "python",
   "name": "python3"
  },
  "language_info": {
   "codemirror_mode": {
    "name": "ipython",
    "version": 3
   },
   "file_extension": ".py",
   "mimetype": "text/x-python",
   "name": "python",
   "nbconvert_exporter": "python",
   "pygments_lexer": "ipython3",
   "version": "3.7.12"
  },
  "papermill": {
   "default_parameters": {},
   "duration": 14.476661,
   "end_time": "2022-04-15T19:27:40.503505",
   "environment_variables": {},
   "exception": null,
   "input_path": "__notebook__.ipynb",
   "output_path": "__notebook__.ipynb",
   "parameters": {},
   "start_time": "2022-04-15T19:27:26.026844",
   "version": "2.3.4"
  }
 },
 "nbformat": 4,
 "nbformat_minor": 5
}
